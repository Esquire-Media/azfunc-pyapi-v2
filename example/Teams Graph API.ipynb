{
 "cells": [
  {
   "cell_type": "code",
   "execution_count": 1,
   "metadata": {},
   "outputs": [],
   "source": [
    "import aiohttp\n",
    "import asyncio\n",
    "import logging\n",
    "\n",
    "async def get_access_token(tenant_id, client_id, client_secret):\n",
    "    token_url = f\"https://login.microsoftonline.com/{tenant_id}/oauth2/v2.0/token\"\n",
    "    data = {\n",
    "        'client_id': client_id,\n",
    "        'scope': 'https://graph.microsoft.com/.default',\n",
    "        'client_secret': client_secret,\n",
    "        'grant_type': 'client_credentials'\n",
    "    }\n",
    "    async with aiohttp.ClientSession() as session:\n",
    "        async with session.post(token_url, data=data) as response:\n",
    "            token_response = await response.json()\n",
    "            if 'access_token' in token_response:\n",
    "                return token_response['access_token']\n",
    "            else:\n",
    "                raise Exception(f\"Error obtaining access token: {token_response}\")\n",
    "\n",
    "def chunks(lst, n):\n",
    "    \"\"\"Yield successive n-sized chunks from lst.\"\"\"\n",
    "    for i in range(0, len(lst), n):\n",
    "        yield lst[i:i + n]\n",
    "\n",
    "async def send_batch_requests(session, requests, headers):\n",
    "    batch_url = 'https://graph.microsoft.com/v1.0/$batch'\n",
    "    batch_request_body = {'requests': requests}\n",
    "    async with session.post(batch_url, headers=headers, json=batch_request_body) as response:\n",
    "        batch_response = await response.json()\n",
    "        if 'error' in batch_response:\n",
    "            raise Exception(f\"Error in batch request: {batch_response['error']}\")\n",
    "        return batch_response.get('responses', [])\n",
    "\n",
    "async def get_all_teams(session, headers):\n",
    "    url = \"https://graph.microsoft.com/v1.0/groups?$filter=resourceProvisioningOptions/Any(x:x eq 'Team')&$select=id,displayName\"\n",
    "    all_teams = []\n",
    "    while url:\n",
    "        async with session.get(url, headers=headers) as response:\n",
    "            data = await response.json()\n",
    "            if 'error' in data:\n",
    "                raise Exception(f\"Error fetching teams: {data['error']}\")\n",
    "            all_teams.extend(data.get('value', []))\n",
    "            url = data.get('@odata.nextLink')\n",
    "    return all_teams\n",
    "\n",
    "async def get_team_channels_with_files(session, headers, team_id):\n",
    "    channels = []\n",
    "    url = f\"https://graph.microsoft.com/v1.0/teams/{team_id}/channels?$select=id,displayName\"\n",
    "    while url:\n",
    "        async with session.get(url, headers=headers) as response:\n",
    "            data = await response.json()\n",
    "            if 'error' in data:\n",
    "                raise Exception(f\"Error fetching channels: {data['error']}\")\n",
    "            channels.extend(data.get('value', []))\n",
    "            url = data.get('@odata.nextLink')\n",
    "\n",
    "    if not channels:\n",
    "        return []\n",
    "\n",
    "    batch_requests = []\n",
    "    id_to_channel = {}\n",
    "    for idx, channel in enumerate(channels):\n",
    "        request = {\n",
    "            'id': str(idx),\n",
    "            'method': 'GET',\n",
    "            'url': f\"/teams/{team_id}/channels/{channel['id']}/filesFolder?$select=id,name,parentReference\"\n",
    "        }\n",
    "        batch_requests.append(request)\n",
    "        id_to_channel[str(idx)] = channel\n",
    "\n",
    "    channel_results = []\n",
    "    for batch in chunks(batch_requests, 20):\n",
    "        batch_responses = await send_batch_requests(session, batch, headers)\n",
    "        for response in batch_responses:\n",
    "            channel = id_to_channel[response['id']]\n",
    "            data = response.get('body', {})\n",
    "            if 'error' in data:\n",
    "                logging.error(f\"Error in batch response for channel {channel['id']}: {data['error']}\")\n",
    "                files_folder = None\n",
    "            else:\n",
    "                files_folder = {\n",
    "                    'id': data.get('id'),\n",
    "                    'name': data.get('name'),\n",
    "                    'driveId': data.get('parentReference', {}).get('driveId')\n",
    "                }\n",
    "            channel_results.append({\n",
    "                'id': channel['id'],\n",
    "                'displayName': channel['displayName'],\n",
    "                'filesFolder': files_folder\n",
    "            })\n",
    "    return channel_results\n",
    "\n",
    "async def get_just_teams(tenant_id, client_id, client_secret):\n",
    "    access_token = await get_access_token(tenant_id, client_id, client_secret)\n",
    "    headers = {'Authorization': f'Bearer {access_token}'}\n",
    "    async with aiohttp.ClientSession() as session:\n",
    "        return await get_all_teams(session, headers)\n",
    "\n",
    "async def get_all_teams_with_channels_and_files(tenant_id, client_id, client_secret):\n",
    "    access_token = await get_access_token(tenant_id, client_id, client_secret)\n",
    "    headers = {'Authorization': f'Bearer {access_token}'}\n",
    "    async with aiohttp.ClientSession() as session:\n",
    "        all_teams = await get_all_teams(session, headers)\n",
    "        tasks = [get_team_channels_with_files(session, headers, team['id']) for team in all_teams]\n",
    "        teams_channels = await asyncio.gather(*tasks)\n",
    "        return [\n",
    "            {'id': team['id'], 'displayName': team['displayName'], 'channels': channels}\n",
    "            for team, channels in zip(all_teams, teams_channels)\n",
    "        ]\n",
    "\n",
    "async def get_team_channels_with_files_single_team(tenant_id, client_id, client_secret, team_id):\n",
    "    access_token = await get_access_token(tenant_id, client_id, client_secret)\n",
    "    headers = {'Authorization': f'Bearer {access_token}'}\n",
    "    async with aiohttp.ClientSession() as session:\n",
    "        return await get_team_channels_with_files(session, headers, team_id)\n"
   ]
  },
  {
   "cell_type": "code",
   "execution_count": 2,
   "metadata": {},
   "outputs": [],
   "source": [
    "import orjson, os\n",
    "with open(\"local.settings.json\") as f:\n",
    "    os.environ.update(orjson.loads(f.read())[\"Values\"])\n",
    "\n",
    "credential = {\n",
    "    \"tenant_id\": os.environ[\"MSGRAPH_TENANT_ID\"],\n",
    "    \"client_id\": os.environ[\"MSGRAPH_CLIENT_ID\"],\n",
    "    \"client_secret\": os.environ[\"MSGRAPH_CLIENT_SECRET\"]\n",
    "}"
   ]
  },
  {
   "cell_type": "code",
   "execution_count": 3,
   "metadata": {},
   "outputs": [
    {
     "data": {
      "text/plain": [
       "237"
      ]
     },
     "metadata": {},
     "output_type": "display_data"
    },
    {
     "data": {
      "text/plain": [
       "{'id': '97234c8b-c651-436d-80f9-36e3257f7684',\n",
       " 'displayName': 'California Closets San Diego',\n",
       " 'channels': [{'id': '19:4519f15dc9da4c978e39012728d8a409@thread.tacv2',\n",
       "   'displayName': 'Creatives',\n",
       "   'filesFolder': {'id': '01LL6BMQWQRN34UV3NL5DYRGDV2HF3V6NW',\n",
       "    'name': 'Creatives',\n",
       "    'driveId': 'b!FsnZDEPa_0KOowgcpWsqPqV2YmoZ_zNMnAhNmYBhqgTCJOZ7h4ZySoiyxHG1lyZw'}},\n",
       "  {'id': '19:0k9InGU1MjEMbVqr431L7CW0wEnW1XknL0Lb8eXnKik1@thread.tacv2',\n",
       "   'displayName': 'General',\n",
       "   'filesFolder': {'id': '01WYNLKBFKENZJMGBG65HLSOY2MK2IB5JT',\n",
       "    'name': 'General',\n",
       "    'driveId': 'b!ucPH7aGaVUOld_joRVJzbyLCobZLh5xJvpWKol6b1EQQl8R4PW90SalIJhWIJ5Xh'}},\n",
       "  {'id': '19:817c0e4ed82b43b4b5f76dab5ee92676@thread.tacv2',\n",
       "   'displayName': 'PMs',\n",
       "   'filesFolder': {'id': '01SFP3T52UMEK5DWNC5RC3BSIOQ7FHI54F',\n",
       "    'name': 'PMs',\n",
       "    'driveId': 'b!dY9bUAM1K02sjLSTpMrnfaV2YmoZ_zNMnAhNmYBhqgTCJOZ7h4ZySoiyxHG1lyZw'}},\n",
       "  {'id': '19:9743a89aee0449b1a2ec7257b306a17e@thread.tacv2',\n",
       "   'displayName': 'AdOps',\n",
       "   'filesFolder': {'id': '01F67SEWA3XGTERPQSAZCJAJHKZNP7WNSM',\n",
       "    'name': 'AdOps',\n",
       "    'driveId': 'b!L5zJkbS2DEuHWEZHpacTiKV2YmoZ_zNMnAhNmYBhqgTCJOZ7h4ZySoiyxHG1lyZw'}}]}"
      ]
     },
     "metadata": {},
     "output_type": "display_data"
    }
   ],
   "source": [
    "all_data = await get_all_teams_with_channels_and_files(**credential)\n",
    "display(len(all_data))\n",
    "display(all_data[30])"
   ]
  },
  {
   "cell_type": "code",
   "execution_count": 5,
   "metadata": {},
   "outputs": [
    {
     "data": {
      "text/plain": [
       "237"
      ]
     },
     "metadata": {},
     "output_type": "display_data"
    },
    {
     "data": {
      "text/plain": [
       "{'id': '97234c8b-c651-436d-80f9-36e3257f7684',\n",
       " 'displayName': 'California Closets San Diego'}"
      ]
     },
     "metadata": {},
     "output_type": "display_data"
    },
    {
     "data": {
      "text/plain": [
       "[{'id': '19:0k9InGU1MjEMbVqr431L7CW0wEnW1XknL0Lb8eXnKik1@thread.tacv2',\n",
       "  'displayName': 'General',\n",
       "  'filesFolder': {'id': '01WYNLKBFKENZJMGBG65HLSOY2MK2IB5JT',\n",
       "   'name': 'General',\n",
       "   'driveId': 'b!ucPH7aGaVUOld_joRVJzbyLCobZLh5xJvpWKol6b1EQQl8R4PW90SalIJhWIJ5Xh'}},\n",
       " {'id': '19:4519f15dc9da4c978e39012728d8a409@thread.tacv2',\n",
       "  'displayName': 'Creatives',\n",
       "  'filesFolder': {'id': '01LL6BMQWQRN34UV3NL5DYRGDV2HF3V6NW',\n",
       "   'name': 'Creatives',\n",
       "   'driveId': 'b!FsnZDEPa_0KOowgcpWsqPqV2YmoZ_zNMnAhNmYBhqgTCJOZ7h4ZySoiyxHG1lyZw'}},\n",
       " {'id': '19:9743a89aee0449b1a2ec7257b306a17e@thread.tacv2',\n",
       "  'displayName': 'AdOps',\n",
       "  'filesFolder': {'id': '01F67SEWA3XGTERPQSAZCJAJHKZNP7WNSM',\n",
       "   'name': 'AdOps',\n",
       "   'driveId': 'b!L5zJkbS2DEuHWEZHpacTiKV2YmoZ_zNMnAhNmYBhqgTCJOZ7h4ZySoiyxHG1lyZw'}},\n",
       " {'id': '19:817c0e4ed82b43b4b5f76dab5ee92676@thread.tacv2',\n",
       "  'displayName': 'PMs',\n",
       "  'filesFolder': {'id': '01SFP3T52UMEK5DWNC5RC3BSIOQ7FHI54F',\n",
       "   'name': 'PMs',\n",
       "   'driveId': 'b!dY9bUAM1K02sjLSTpMrnfaV2YmoZ_zNMnAhNmYBhqgTCJOZ7h4ZySoiyxHG1lyZw'}}]"
      ]
     },
     "metadata": {},
     "output_type": "display_data"
    }
   ],
   "source": [
    "all_teams = await get_just_teams(**credential)\n",
    "all_channels = await get_team_channels_with_files_single_team(**credential, team_id=all_teams[30][\"id\"])\n",
    "display(len(all_teams))\n",
    "display(all_teams[30])\n",
    "display(all_channels)"
   ]
  }
 ],
 "metadata": {
  "kernelspec": {
   "display_name": ".venv",
   "language": "python",
   "name": "python3"
  },
  "language_info": {
   "codemirror_mode": {
    "name": "ipython",
    "version": 3
   },
   "file_extension": ".py",
   "mimetype": "text/x-python",
   "name": "python",
   "nbconvert_exporter": "python",
   "pygments_lexer": "ipython3",
   "version": "3.11.7"
  }
 },
 "nbformat": 4,
 "nbformat_minor": 2
}
