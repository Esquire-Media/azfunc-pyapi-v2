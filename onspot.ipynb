{
 "cells": [
  {
   "cell_type": "code",
   "execution_count": 2,
   "metadata": {},
   "outputs": [],
   "source": [
    "import simplejson as json\n",
    "import os\n",
    "\n",
    "for key, value in json.load(open(\"local.settings.json\"))[\"Values\"].items():\n",
    "    os.environ[key] = str(value)"
   ]
  },
  {
   "cell_type": "code",
   "execution_count": null,
   "metadata": {},
   "outputs": [],
   "source": [
    "from datetime import timedelta\n",
    "from libs.openapi.clients.onspot import OnSpotAPI\n",
    "\n",
    "api = OnSpotAPI()\n",
    "for p in api._operationindex:\n",
    "    print(p)\n",
    "\n",
    "session_factory = api.createRequest(\"Devices.geoframeAllDevices\")\n",
    "await session_factory(\n",
    "    data={\n",
    "        \"type\": \"FeatureCollection\",\n",
    "        \"features\": [\n",
    "            {\n",
    "                \"type\": \"Feature\",\n",
    "                \"geometry\": {\n",
    "                    \"type\": \"Polygon\",\n",
    "                    \"coordinates\": [\n",
    "                        [\n",
    "                            [-123.46478462219238, 39.07166187346857],\n",
    "                            [-123.4659218788147, 39.06921298141872],\n",
    "                            [-123.46278905868529, 39.0687964947246],\n",
    "                            [-123.4616732597351, 39.07079560844253],\n",
    "                            [-123.46478462219238, 39.07166187346857],\n",
    "                        ]\n",
    "                    ],\n",
    "                },\n",
    "                \"properties\": {\n",
    "                    \"name\": \"Feature Example\",\n",
    "                    \"start\": \"2022-06-08T00:00:00\",\n",
    "                    \"end\": \"2022-06-19T23:59:59\",\n",
    "                    \"callback\": \"https://iupd9.localto.net/api/logger\",\n",
    "                },\n",
    "            }\n",
    "        ],\n",
    "    }\n",
    ")"
   ]
  }
 ],
 "metadata": {
  "kernelspec": {
   "display_name": ".venv",
   "language": "python",
   "name": "python3"
  },
  "language_info": {
   "codemirror_mode": {
    "name": "ipython",
    "version": 3
   },
   "file_extension": ".py",
   "mimetype": "text/x-python",
   "name": "python",
   "nbconvert_exporter": "python",
   "pygments_lexer": "ipython3",
   "version": "3.10.4"
  },
  "orig_nbformat": 4
 },
 "nbformat": 4,
 "nbformat_minor": 2
}
