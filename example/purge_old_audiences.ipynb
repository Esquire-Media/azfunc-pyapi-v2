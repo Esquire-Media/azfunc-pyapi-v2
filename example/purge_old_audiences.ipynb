{
 "cells": [
  {
   "cell_type": "code",
   "execution_count": 1,
   "id": "bd6d4adb",
   "metadata": {},
   "outputs": [],
   "source": [
    "from sqlalchemy import select\n",
    "from sqlalchemy import MetaData, Table, select, create_engine\n",
    "\n",
    "import pandas as pd"
   ]
  },
  {
   "cell_type": "code",
   "execution_count": 157,
   "id": "61da5118",
   "metadata": {},
   "outputs": [],
   "source": [
    "\n",
    "import orjson, os\n",
    "with open(\"local.settings.json\") as f:\n",
    "    os.environ.update(orjson.loads(f.read())[\"Values\"])"
   ]
  },
  {
   "cell_type": "markdown",
   "id": "04e055dc",
   "metadata": {},
   "source": [
    "# Database"
   ]
  },
  {
   "cell_type": "code",
   "execution_count": 143,
   "id": "9ed22186",
   "metadata": {},
   "outputs": [],
   "source": [
    "engine = create_engine(os.environ['DATABIND_SQL_KEYSTONE'])\n",
    "schema = 'keystone'\n",
    "table_name = 'Audience'\n",
    "columns = []"
   ]
  },
  {
   "cell_type": "code",
   "execution_count": 144,
   "id": "8e779331",
   "metadata": {},
   "outputs": [],
   "source": [
    "# Create a MetaData object\n",
    "metadata = MetaData()\n",
    "\n",
    "# Reflect the table\n",
    "table = Table(table_name, metadata, schema=schema, autoload_with=engine)\n",
    "\n",
    "# select\n",
    "columns = [\"id\"]\n",
    "selected_columns = [table.c[col] for col in columns]\n",
    "stmt = select(*selected_columns)\n",
    "\n",
    "# Execute the query\n",
    "with engine.connect() as conn:\n",
    "    result = conn.execute(stmt)\n",
    "    # Use mappings() to fetch rows as dictionaries\n",
    "    rows = [row for row in result.mappings()]\n",
    "\n",
    "audiences = pd.DataFrame(rows)\n",
    "audiences = audiences.to_numpy().flatten()"
   ]
  },
  {
   "cell_type": "markdown",
   "id": "f87b20d4",
   "metadata": {},
   "source": [
    "# Table"
   ]
  },
  {
   "cell_type": "code",
   "execution_count": 121,
   "id": "b7428d37",
   "metadata": {},
   "outputs": [],
   "source": [
    "import os\n",
    "from azure.data.tables import TableClient\n",
    "\n",
    "def get_partition_keys_from_sas(sas_url: str, name_filter: str = \"orchestrator_esquire_audience\") -> list[str]:\n",
    "    \"\"\"\n",
    "    Returns list of dicts with PartitionKey and name where name == name_filter.\n",
    "\n",
    "    :param sas_url: Full SAS URL to the Azure Table\n",
    "    :param name_filter: The value to match in the 'name' field\n",
    "    :return: List of dicts: [{'PartitionKey': ..., 'name': ...}, ...]\n",
    "    \"\"\"\n",
    "    table_client = TableClient.from_table_url(sas_url)\n",
    "    select_fields = [\"PartitionKey\", \"Name\"]\n",
    "\n",
    "    results = []\n",
    "\n",
    "    for entity in table_client.list_entities(select=select_fields):\n",
    "        pk = entity.get(\"PartitionKey\")\n",
    "        name = entity.get(\"Name\")\n",
    "        if pk and name:\n",
    "            results.append({\"PartitionKey\": pk, \"name\": name})\n",
    "\n",
    "    return pd.DataFrame(results)\n",
    "\n"
   ]
  },
  {
   "cell_type": "code",
   "execution_count": 122,
   "id": "a4bc4fbb",
   "metadata": {},
   "outputs": [],
   "source": [
    "prod_info = get_partition_keys_from_sas(os.getenv(\"ESQUIREAUTOAUDIENCE_PRODINST_URL\"))"
   ]
  },
  {
   "cell_type": "code",
   "execution_count": 145,
   "id": "483082c0",
   "metadata": {},
   "outputs": [],
   "source": [
    "prod_info = prod_info[prod_info['name'] == 'orchestrator_esquire_audience']"
   ]
  },
  {
   "cell_type": "code",
   "execution_count": 146,
   "id": "65688f21",
   "metadata": {},
   "outputs": [],
   "source": [
    "prod_keys = prod_info['PartitionKey'].values"
   ]
  },
  {
   "cell_type": "code",
   "execution_count": 159,
   "id": "2bf25c02",
   "metadata": {},
   "outputs": [
    {
     "data": {
      "text/plain": [
       "557"
      ]
     },
     "execution_count": 159,
     "metadata": {},
     "output_type": "execute_result"
    }
   ],
   "source": [
    "len(prod_keys)"
   ]
  },
  {
   "cell_type": "markdown",
   "id": "bdf596d4",
   "metadata": {},
   "source": [
    "# Compare"
   ]
  },
  {
   "cell_type": "code",
   "execution_count": 147,
   "id": "64e1647e",
   "metadata": {},
   "outputs": [],
   "source": [
    "absent_audiences = set([key.split(':')[0] for key in prod_keys]) - set(audiences)"
   ]
  },
  {
   "cell_type": "code",
   "execution_count": 148,
   "id": "65cfb6d3",
   "metadata": {},
   "outputs": [
    {
     "data": {
      "text/plain": [
       "557"
      ]
     },
     "execution_count": 148,
     "metadata": {},
     "output_type": "execute_result"
    }
   ],
   "source": [
    "len(set([key.split(':')[0] for key in prod_keys]) & set(audiences))"
   ]
  },
  {
   "cell_type": "code",
   "execution_count": 149,
   "id": "f993b983",
   "metadata": {},
   "outputs": [
    {
     "data": {
      "text/plain": [
       "0"
      ]
     },
     "execution_count": 149,
     "metadata": {},
     "output_type": "execute_result"
    }
   ],
   "source": [
    "len(absent_audiences)"
   ]
  },
  {
   "cell_type": "code",
   "execution_count": 150,
   "id": "b594cd53",
   "metadata": {},
   "outputs": [],
   "source": [
    "remove_keys = set([key for key in prod_keys if key.split(':')[0] in absent_audiences])"
   ]
  },
  {
   "cell_type": "code",
   "execution_count": 160,
   "id": "d941a56d",
   "metadata": {},
   "outputs": [
    {
     "name": "stdout",
     "output_type": "stream",
     "text": [
      "0.00% set to be removed\n"
     ]
    }
   ],
   "source": [
    "print(f\"{len(remove_keys) / len(prod_keys):.2%} set to be removed\")"
   ]
  },
  {
   "cell_type": "markdown",
   "id": "76f8f841",
   "metadata": {},
   "source": [
    "# Delete"
   ]
  },
  {
   "cell_type": "code",
   "execution_count": null,
   "id": "372d86aa",
   "metadata": {},
   "outputs": [],
   "source": [
    "import requests\n",
    "\n",
    "for id in remove_keys:\n",
    "    print(id)\n",
    "    resp = requests.delete(\n",
    "        url=\"https://esquire-auto-audience.azurewebsites.net/runtime/webhooks/durabletask/instances/{id}\".format(\n",
    "            id=id\n",
    "        ),\n",
    "        params={\n",
    "            \"taskHub\": \"production\",\n",
    "            \"connection\": \"Storage\",\n",
    "            \"code\": os.environ['AZFUNC_MASTER_CODE'],\n",
    "        },\n",
    "    )"
   ]
  },
  {
   "cell_type": "code",
   "execution_count": null,
   "id": "76ac9658",
   "metadata": {},
   "outputs": [],
   "source": []
  }
 ],
 "metadata": {
  "kernelspec": {
   "display_name": "Python 3",
   "language": "python",
   "name": "python3"
  },
  "language_info": {
   "codemirror_mode": {
    "name": "ipython",
    "version": 3
   },
   "file_extension": ".py",
   "mimetype": "text/x-python",
   "name": "python",
   "nbconvert_exporter": "python",
   "pygments_lexer": "ipython3",
   "version": "3.10.11"
  }
 },
 "nbformat": 4,
 "nbformat_minor": 5
}
