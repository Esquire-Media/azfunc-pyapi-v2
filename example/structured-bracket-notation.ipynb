{
 "cells": [
  {
   "cell_type": "code",
   "execution_count": 1,
   "metadata": {},
   "outputs": [],
   "source": [
    "import json, os\n",
    "for k,v in json.load(open(\"local.settings.json\"))[\"Values\"].items():\n",
    "    os.environ[k] = v"
   ]
  },
  {
   "cell_type": "code",
   "execution_count": 2,
   "metadata": {},
   "outputs": [
    {
     "name": "stderr",
     "output_type": "stream",
     "text": [
      "d:\\GitHub\\Esquire-Media\\azfunc-pyapi-v2\\libs\\data\\structured\\sqlalchemy\\__init__.py:223: SAWarning: Table 'TestView' specifies columns 'id', 'esq_id' as primary_key=True, not matching locally specified columns 'esq_id'; setting the current primary key columns to 'esq_id'. This warning may become an exception in a future release\n",
      "  table.append_constraint(PrimaryKeyConstraint(col))\n",
      "d:\\GitHub\\Esquire-Media\\azfunc-pyapi-v2\\libs\\data\\structured\\sqlalchemy\\__init__.py:223: SAWarning: Table 'TestView' specifies columns 'id', 'esq_id', 'location_id' as primary_key=True, not matching locally specified columns 'location_id'; setting the current primary key columns to 'location_id'. This warning may become an exception in a future release\n",
      "  table.append_constraint(PrimaryKeyConstraint(col))\n",
      "d:\\GitHub\\Esquire-Media\\azfunc-pyapi-v2\\libs\\data\\structured\\sqlalchemy\\__init__.py:223: SAWarning: Table 'TestView' specifies columns 'id', 'esq_id', 'location_id', 'type_id' as primary_key=True, not matching locally specified columns 'type_id'; setting the current primary key columns to 'type_id'. This warning may become an exception in a future release\n",
      "  table.append_constraint(PrimaryKeyConstraint(col))\n",
      "d:\\GitHub\\Esquire-Media\\azfunc-pyapi-v2\\libs\\data\\structured\\sqlalchemy\\__init__.py:223: SAWarning: Table 'LocationsBackup' specifies columns 'ID', 'ESQ_ID' as primary_key=True, not matching locally specified columns 'ESQ_ID'; setting the current primary key columns to 'ESQ_ID'. This warning may become an exception in a future release\n",
      "  table.append_constraint(PrimaryKeyConstraint(col))\n"
     ]
    }
   ],
   "source": [
    "from libs.data import register_binding, from_bind\n",
    "if not from_bind(\"some_handle_name\"):\n",
    "    register_binding(\n",
    "        \"some_handle_name\",\n",
    "        \"Structured\",\n",
    "        \"sql\",\n",
    "        url=os.environ[\"DATABIND_SQL_UNIVERSAL\"],\n",
    "        schemas=[\"esquire\", \"dbo\"],\n",
    "    )"
   ]
  },
  {
   "cell_type": "code",
   "execution_count": 3,
   "metadata": {},
   "outputs": [
    {
     "data": {
      "text/plain": [
       "SELECT top 10 esquire.geoframes.esq_id,\n",
       "       esquire.geoframes.id,\n",
       "       (esquire.geoframes.geography).stasbinary() as geography\n",
       "FROM   esquire.geoframes\n",
       "ORDER BY esquire.geoframes.esq_id"
      ]
     },
     "metadata": {},
     "output_type": "display_data"
    },
    {
     "name": "stderr",
     "output_type": "stream",
     "text": [
      "d:\\GitHub\\Esquire-Media\\azfunc-pyapi-v2\\libs\\data\\structured\\sqlalchemy\\interface.py:195: SAWarning: UserDefinedType GeographyJSON(from_text='ST_GeomFromEWKT', name='geometry') will not produce a cache key because the ``cache_ok`` attribute is not set to True.  This can have significant performance implications including some performance degradations in comparison to prior SQLAlchemy versions.  Set this attribute to True if this type object's state is safe to use in a cache key, or False to disable this warning. (Background on this warning at: https://sqlalche.me/e/20/cprf)\n",
      "  return self.__build__().all()\n"
     ]
    },
    {
     "data": {
      "text/plain": [
       "[('01~00015', UUID('9fe48c14-404b-4a6e-afdb-f79d0b9298a5'), {\"geometry\": {\"coordinates\": [[[-104.746697, 40.394451], [-104.746695, 40.394333], [-104.746445, 40.394332], [-104.746445, 40.394451], [-104.746697, 40.394451]]], \"type\": \"Polygon\"}, \"properties\": {}, \"type\": \"Feature\"}),\n",
       " ('01~00016', UUID('940ae7e4-74cd-48d1-9411-99bac319e7ea'), {\"geometry\": {\"coordinates\": [[[-105.07588, 40.530851], [-105.075879, 40.53072], [-105.075536, 40.530722], [-105.075536, 40.530852], [-105.07588, 40.530851]]], \"type\": \"Polygon\"}, \"properties\": {}, \"type\": \"Feature\"}),\n",
       " ('01~00017', UUID('38af3cca-118b-4c72-ba38-15ce5eb89947'), {\"geometry\": {\"coordinates\": [[[-108.599701, 39.08985], [-108.599603, 39.08978], [-108.599459, 39.089892], [-108.59956, 39.089962], [-108.599701, 39.08985]]], \"type\": \"Polygon\"}, \"properties\": {}, \"type\": \"Feature\"}),\n",
       " ('01~00018', UUID('0ca89be9-8081-4322-8cef-5b173efcf7ba'), {\"geometry\": {\"coordinates\": [[[-104.828054, 39.69776], [-104.828056, 39.697473], [-104.82789, 39.697472], [-104.827887, 39.697759], [-104.828054, 39.69776]]], \"type\": \"Polygon\"}, \"properties\": {}, \"type\": \"Feature\"}),\n",
       " ('01~00020', UUID('8e951e97-51c2-4130-879e-fca364f4207b'), {\"geometry\": {\"coordinates\": [[[-104.988731, 39.883915], [-104.988729, 39.883771], [-104.988555, 39.88377], [-104.988556, 39.883916], [-104.988731, 39.883915]]], \"type\": \"Polygon\"}, \"properties\": {}, \"type\": \"Feature\"}),\n",
       " ('01~00021', UUID('144ad133-88d7-4d43-8411-26fc2367890e'), {\"geometry\": {\"coordinates\": [[[-105.056529, 39.8666], [-105.056397, 39.8666], [-105.056395, 39.866893], [-105.056529, 39.866894], [-105.056529, 39.8666]]], \"type\": \"Polygon\"}, \"properties\": {}, \"type\": \"Feature\"}),\n",
       " ('01~00022', UUID('361facc2-b229-4884-a757-487a1a0416ae'), {\"geometry\": {\"coordinates\": [[[-105.09266, 39.619794], [-105.092661, 39.619612], [-105.09246, 39.619611], [-105.09246, 39.619795], [-105.09266, 39.619794]]], \"type\": \"Polygon\"}, \"properties\": {}, \"type\": \"Feature\"}),\n",
       " ('01~00023', UUID('9888e1ae-9f72-408e-bffe-6758429c4709'), {\"geometry\": {\"coordinates\": [[[-104.761781, 39.512201], [-104.761781, 39.512085], [-104.761572, 39.512084], [-104.761569, 39.5122], [-104.761781, 39.512201]]], \"type\": \"Polygon\"}, \"properties\": {}, \"type\": \"Feature\"}),\n",
       " ('01~00024', UUID('89179aa6-82bc-4e41-b859-57011d0d97c4'), {\"geometry\": {\"coordinates\": [[[-104.964843, 39.59439], [-104.964842, 39.594504], [-104.965049, 39.594503], [-104.965049, 39.594391], [-104.964843, 39.59439]]], \"type\": \"Polygon\"}, \"properties\": {}, \"type\": \"Feature\"}),\n",
       " ('01~00025', UUID('83e30d84-fc35-4222-a482-66599328d902'), {\"geometry\": {\"coordinates\": [[[-105.153903, 39.7374], [-105.153928, 39.737429], [-105.154095, 39.737333], [-105.153965, 39.73722], [-105.153809, 39.737317], [-105.153903, 39.7374]]], \"type\": \"Polygon\"}, \"properties\": {}, \"type\": \"Feature\"})]"
      ]
     },
     "metadata": {},
     "output_type": "display_data"
    }
   ],
   "source": [
    "provider = from_bind(\"some_handle_name\")\n",
    "\n",
    "qf = provider[\"esquire.geoframes\"]\n",
    "qf = qf[[qf[\"esq_id\"], qf[\"id\"], qf[\"geography\"]]]\n",
    "\n",
    "display(qf[:10])\n",
    "display(qf[25:35]())"
   ]
  }
 ],
 "metadata": {
  "kernelspec": {
   "display_name": ".venv",
   "language": "python",
   "name": "python3"
  },
  "language_info": {
   "codemirror_mode": {
    "name": "ipython",
    "version": 3
   },
   "file_extension": ".py",
   "mimetype": "text/x-python",
   "name": "python",
   "nbconvert_exporter": "python",
   "pygments_lexer": "ipython3",
   "version": "3.10.11"
  },
  "orig_nbformat": 4
 },
 "nbformat": 4,
 "nbformat_minor": 2
}
