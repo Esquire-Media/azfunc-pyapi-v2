{
 "cells": [
  {
   "cell_type": "code",
   "execution_count": 18,
   "metadata": {},
   "outputs": [],
   "source": [
    "import json, os\n",
    "from libs.utils.python import load_local_settings\n",
    "load_local_settings()\n",
    "import httpx\n",
    "import adaptive_cards.card_types as types\n",
    "from adaptive_cards.card import AdaptiveCard\n",
    "from adaptive_cards.elements import TextBlock, Image\n",
    "from adaptive_cards.containers import Container, ContainerTypes, ColumnSet, Column"
   ]
  },
  {
   "cell_type": "code",
   "execution_count": 19,
   "metadata": {},
   "outputs": [],
   "source": [
    "ingress = {\n",
    "    \"function_name\":\"example-function\",\n",
    "    \"instance_id\":\"test-123\",\n",
    "    \"error\":\"Ice cream machine broke\",\n",
    "    \"icon_url\":\"https://img.icons8.com/?size=77&id=16044&format=png\",\n",
    "    \"webhook\":os.environ[\"EXCEPTIONS_WEBHOOK_DEVOPS\"]\n",
    "}"
   ]
  },
  {
   "cell_type": "code",
   "execution_count": 20,
   "metadata": {},
   "outputs": [],
   "source": [
    "# initialize the object that will contain all card elements\n",
    "containers: list[ContainerTypes] = []\n",
    "\n",
    "# build a header with title and icon\n",
    "containers.append(\n",
    "    Container(\n",
    "        items=[\n",
    "            ColumnSet(\n",
    "                columns=[\n",
    "                    Column(\n",
    "                        items=[\n",
    "                            TextBlock(\n",
    "                                text=\"Azure Functions Error\",\n",
    "                                size=types.FontSize.LARGE,\n",
    "                            )\n",
    "                        ],\n",
    "                        width=\"stretch\",\n",
    "                    ),\n",
    "                    Column(\n",
    "                        items=[Image(url=ingress['icon_url'], width=\"25px\")],\n",
    "                        rtl=True,\n",
    "                        width=\"auto\",\n",
    "                    ),\n",
    "                ]\n",
    "            )\n",
    "        ],\n",
    "        style=types.ContainerStyle.EMPHASIS,\n",
    "        bleed=True,\n",
    "    )\n",
    ")\n",
    "\n",
    "# build a summary section with meta information\n",
    "containers.append(\n",
    "    Container(\n",
    "        items=[\n",
    "            TextBlock(\n",
    "                text=\"Summary\",\n",
    "                size=types.FontSize.MEDIUM,\n",
    "                weight='Bolder'\n",
    "            ),\n",
    "            ColumnSet(\n",
    "                columns=[\n",
    "                    Column(\n",
    "                        items=[\n",
    "                            TextBlock(text=\"Function Name\"),\n",
    "                            TextBlock(text=\"Instance ID\"),\n",
    "                        ],\n",
    "                        width=\"100px\"\n",
    "                    ),\n",
    "                    Column(\n",
    "                        items=[\n",
    "                            TextBlock(text=ingress['function_name']),\n",
    "                            TextBlock(text=ingress['instance_id']),\n",
    "                        ],\n",
    "                        spacing=types.Spacing.MEDIUM,\n",
    "                        rtl=False,\n",
    "                    ),\n",
    "                ],\n",
    "                separator=True,\n",
    "            )\n",
    "        ],\n",
    "        spacing=types.Spacing.SMALL,\n",
    "    )\n",
    ")\n",
    "\n",
    "# build a details section with a truncated error trace\n",
    "containers.append(\n",
    "    Container(  \n",
    "        items = [\n",
    "            TextBlock(\n",
    "                text=\"Details\",\n",
    "                size=types.FontSize.MEDIUM,\n",
    "                weight='Bolder'\n",
    "            ),\n",
    "            TextBlock(\n",
    "                text=ingress['error'],\n",
    "                size=types.FontSize.SMALL,\n",
    "                wrap=True,\n",
    "                max_lines=10,\n",
    "                separator=True\n",
    "            ),\n",
    "        ]\n",
    "    )\n",
    ")\n",
    "\n",
    "# build Adaptive card from container elements\n",
    "card = AdaptiveCard.new().version(\"1.5\").add_items(containers).create()"
   ]
  },
  {
   "cell_type": "code",
   "execution_count": null,
   "metadata": {},
   "outputs": [],
   "source": [
    "# build Adaptive card from container elements\n",
    "print({\"$\"+k if k=='schema' else k:v for k,v in json.loads(card.to_json()).items()})"
   ]
  },
  {
   "cell_type": "code",
   "execution_count": 22,
   "metadata": {},
   "outputs": [
    {
     "data": {
      "text/plain": [
       "200"
      ]
     },
     "execution_count": 22,
     "metadata": {},
     "output_type": "execute_result"
    }
   ],
   "source": [
    "httpx.Client(timeout=None).request(\n",
    "    method=\"POST\",\n",
    "    url=ingress['webhook'],\n",
    "    json={\n",
    "        \"type\": \"message\",\n",
    "        \"attachments\": [\n",
    "            {\n",
    "                \"contentType\": \"application/vnd.microsoft.card.adaptive\",\n",
    "                \"contentUrl\": None,\n",
    "                \"content\": {\"$\"+k if k=='schema' else k:v for k,v in json.loads(card.to_json()).items()} # key exports as \"schema\", but it needs to be \"$schema\"\n",
    "            }\n",
    "        ],\n",
    "    },\n",
    ").status_code"
   ]
  },
  {
   "cell_type": "code",
   "execution_count": null,
   "metadata": {},
   "outputs": [],
   "source": []
  }
 ],
 "metadata": {
  "kernelspec": {
   "display_name": ".venv",
   "language": "python",
   "name": "python3"
  },
  "language_info": {
   "codemirror_mode": {
    "name": "ipython",
    "version": 3
   },
   "file_extension": ".py",
   "mimetype": "text/x-python",
   "name": "python",
   "nbconvert_exporter": "python",
   "pygments_lexer": "ipython3",
   "version": "3.10.11"
  }
 },
 "nbformat": 4,
 "nbformat_minor": 2
}
