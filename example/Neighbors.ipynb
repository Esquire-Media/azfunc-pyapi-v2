{
 "cells": [
  {
   "cell_type": "code",
   "execution_count": null,
   "metadata": {},
   "outputs": [],
   "source": [
    "!pip install memory-profiler openpyxl"
   ]
  },
  {
   "cell_type": "code",
   "execution_count": null,
   "metadata": {},
   "outputs": [],
   "source": [
    "import json, os\n",
    "for k,v in json.load(open(\"local.settings.json\"))[\"Values\"].items():\n",
    "    os.environ[k] = v"
   ]
  },
  {
   "cell_type": "code",
   "execution_count": null,
   "metadata": {},
   "outputs": [],
   "source": [
    "import pandas as pd\n",
    "from libs.utils.esquire.neighbors.logic_vectorized import get_all_neighbors\n",
    "from memory_profiler import memory_usage\n",
    "\n",
    "# Load the data\n",
    "df = pd.read_excel(\"real_sample_formatted.xlsx\").drop_duplicates().head(100)\n",
    "\n",
    "# Define a wrapper function to run the profiling\n",
    "def run_get_all_neighbors():\n",
    "    return get_all_neighbors(df, 3)\n",
    "\n",
    "# Profile the memory usage\n",
    "mem_usage = memory_usage(run_get_all_neighbors, interval=0.1)\n"
   ]
  },
  {
   "cell_type": "code",
   "execution_count": null,
   "metadata": {},
   "outputs": [],
   "source": [
    "import matplotlib.pyplot as plt\n",
    "plt.plot(mem_usage)\n",
    "plt.xlabel('Time (s)')\n",
    "plt.ylabel('Memory Usage (MiB)')\n",
    "plt.title('Memory Usage Over Time')\n",
    "plt.show()\n",
    "\n",
    "# Or simply print the maximum memory usage\n",
    "print(f\"Maximum memory usage: {max(mem_usage)} MiB\")"
   ]
  }
 ],
 "metadata": {
  "kernelspec": {
   "display_name": ".venv",
   "language": "python",
   "name": "python3"
  },
  "language_info": {
   "codemirror_mode": {
    "name": "ipython",
    "version": 3
   },
   "file_extension": ".py",
   "mimetype": "text/x-python",
   "name": "python",
   "nbconvert_exporter": "python",
   "pygments_lexer": "ipython3",
   "version": "3.12.2"
  }
 },
 "nbformat": 4,
 "nbformat_minor": 2
}
