{
 "cells": [
  {
   "cell_type": "markdown",
   "metadata": {},
   "source": [
    "# Set environmental variables for local development\n"
   ]
  },
  {
   "cell_type": "code",
   "execution_count": 1,
   "metadata": {},
   "outputs": [],
   "source": [
    "import json, os\n",
    "\n",
    "for k, v in json.load(open(\"local.settings.json\"))[\"Values\"].items():\n",
    "    os.environ[k] = v\n",
    "from libs.openapi.clients import Meta\n",
    "from libs.openapi.clients.facebook import Facebook\n",
    "from time import sleep\n",
    "import pandas as pd, os"
   ]
  },
  {
   "cell_type": "markdown",
   "metadata": {},
   "source": [
    "# List out all defined API Operations"
   ]
  },
  {
   "cell_type": "code",
   "execution_count": null,
   "metadata": {},
   "outputs": [],
   "source": [
    "list(Meta.operations())"
   ]
  },
  {
   "cell_type": "markdown",
   "metadata": {},
   "source": [
    "# Get AdAccounts related to \"Me\"\n"
   ]
  },
  {
   "cell_type": "code",
   "execution_count": null,
   "metadata": {},
   "outputs": [],
   "source": [
    "accounts = Meta[\"User.Get.Adaccounts\"]\n",
    "\n",
    "# Set Access Token if META_ACCESS_TOKEN is not an environmental value\n",
    "# _ = accounts.security.setdefault(\"AccessToken\", \"abcd1234efgh5678\")\n",
    "\n",
    "\n",
    "# Use the request method to get\n",
    "\n",
    "accounts_headers, accounts_data, accounts_raw = accounts.request(\n",
    "    parameters={\n",
    "        \"User-Id\": \"me\",\n",
    "        \"limit\": 100,\n",
    "        \"fields\": [\n",
    "            \"account_id\",\n",
    "            \"account_status\",\n",
    "            \"age\",\n",
    "            # \"agency_client_declaration\",\n",
    "            # \"amount_spent\",\n",
    "            \"balance\",\n",
    "            # \"business\", # Business\n",
    "            \"business_city\",\n",
    "            \"business_country_code\",\n",
    "            \"business_name\",\n",
    "            \"business_state\",\n",
    "            \"business_street\",\n",
    "            \"business_street2\",\n",
    "            \"business_zip\",\n",
    "            # \"can_create_brand_lift_study\",\n",
    "            # \"capabilities\",\n",
    "            \"created_time\",\n",
    "            \"currency\",\n",
    "            # \"default_dsa_beneficiary\",\n",
    "            # \"default_dsa_payor\",\n",
    "            \"disable_reason\",\n",
    "            \"end_advertiser\",\n",
    "            \"end_advertiser_name\",\n",
    "            # \"existing_customers\",\n",
    "            \"fb_entity\",\n",
    "            \"funding_source\",\n",
    "            \"has_migrated_permissions\",\n",
    "            # \"has_page_authorized_adaccount\", # Page\n",
    "            \"id\",\n",
    "            # \"io_number\",\n",
    "            \"is_attribution_spec_system_default\",\n",
    "            \"is_direct_deals_enabled\",\n",
    "            \"is_in_3ds_authorization_enabled_market\",\n",
    "            \"is_notifications_enabled\",\n",
    "            \"is_personal\",\n",
    "            \"is_prepay_account\",\n",
    "            \"is_tax_id_required\",\n",
    "            # \"line_numbers\",\n",
    "            # \"media_agency\",\n",
    "            \"min_campaign_group_spend_cap\",\n",
    "            \"min_daily_budget\",\n",
    "            \"name\",\n",
    "            \"offsite_pixels_tos_accepted\",\n",
    "            \"owner\",\n",
    "            # \"owner_business\", # N/A\n",
    "            # \"partner\",\n",
    "            # \"show_checkout_experience\", # Page\n",
    "            \"spend_cap\",\n",
    "            \"tax_id\",\n",
    "            \"tax_id_status\",\n",
    "            \"tax_id_type\",\n",
    "            \"timezone_id\",\n",
    "            \"timezone_name\",\n",
    "            \"timezone_offset_hours_utc\",\n",
    "            # \"tos_accepted\",\n",
    "            # \"user_tasks\",\n",
    "            # \"user_tos_accepted\",\n",
    "            # \"viewable_business\" # N/A\n",
    "        ],\n",
    "    }\n",
    ")\n",
    "accounts_data"
   ]
  },
  {
   "cell_type": "markdown",
   "metadata": {},
   "source": [
    "# Start Insight Report Generation Based on AdAccount\n"
   ]
  },
  {
   "cell_type": "code",
   "execution_count": null,
   "metadata": {},
   "outputs": [],
   "source": [
    "report_run = Meta[\"AdAccount.Post.Insights\"]\n",
    "report_run_data = report_run(\n",
    "    parameters={\n",
    "        \"AdAccount-Id\": \"act_255251892591227\",\n",
    "        \"fields\": [\n",
    "            # \"account_currency\",\n",
    "            # \"account_id\",\n",
    "            # \"account_name\",\n",
    "            \"ad_id\",\n",
    "            # \"ad_name\",\n",
    "            # \"adset_end\",\n",
    "            # \"adset_id\",\n",
    "            # \"adset_name\",\n",
    "            # \"adset_start\",\n",
    "            # \"age_targeting\",\n",
    "            \"attribution_setting\",\n",
    "            \"auction_bid\",\n",
    "            # \"auction_competitiveness\",\n",
    "            # \"auction_max_competitor_bid\",\n",
    "            \"buying_type\",\n",
    "            # \"campaign_id\",\n",
    "            # \"campaign_name\",\n",
    "            # \"canvas_avg_view_percent\",\n",
    "            # \"canvas_avg_view_time\",\n",
    "            \"clicks\",\n",
    "            # \"conversion_rate_ranking\",\n",
    "            # \"cost_per_dda_countby_convs\",\n",
    "            # \"cost_per_estimated_ad_recallers\",\n",
    "            # \"cost_per_inline_link_click\",\n",
    "            # \"cost_per_inline_post_engagement\",\n",
    "            # \"cost_per_unique_click\",\n",
    "            # \"cost_per_unique_inline_link_click\",\n",
    "            \"cpc\",\n",
    "            \"cpm\",\n",
    "            \"cpp\",\n",
    "            \"created_time\",\n",
    "            \"creative_media_type\",\n",
    "            \"ctr\",\n",
    "            \"date_start\",\n",
    "            \"date_stop\",\n",
    "            # \"dda_countby_convs\",\n",
    "            # \"dda_results\",\n",
    "            # \"engagement_rate_ranking\",\n",
    "            # \"estimated_ad_recall_rate\",\n",
    "            # \"estimated_ad_recall_rate_lower_bound\",\n",
    "            # \"estimated_ad_recall_rate_upper_bound\",\n",
    "            # \"estimated_ad_recallers\",\n",
    "            # \"estimated_ad_recallers_lower_bound\",\n",
    "            # \"estimated_ad_recallers_upper_bound\",\n",
    "            \"frequency\",\n",
    "            # \"full_view_impressions\", # N/A\n",
    "            # \"full_view_reach\", # N/A\n",
    "            # \"gender_targeting\",\n",
    "            \"impressions\",\n",
    "            # \"inline_link_click_ctr\",\n",
    "            # \"inline_link_clicks\",\n",
    "            # \"inline_post_engagement\",\n",
    "            # \"instagram_upcoming_event_reminders_set\",\n",
    "            # \"instant_experience_clicks_to_open\",\n",
    "            # \"instant_experience_clicks_to_start\",\n",
    "            \"labels\",\n",
    "            # \"location\",\n",
    "            \"objective\",\n",
    "            \"optimization_goal\",\n",
    "            # \"place_page_name\",\n",
    "            # \"qualifying_question_qualify_answer_rate\",\n",
    "            # \"quality_ranking\",\n",
    "            # \"quality_score_ectr\",\n",
    "            # \"quality_score_ecvr\",\n",
    "            # \"quality_score_organic\",\n",
    "            \"reach\",\n",
    "            # \"social_spend\",\n",
    "            \"spend\",\n",
    "            # \"total_postbacks\",\n",
    "            # \"total_postbacks_detailed_v4\",\n",
    "            \"unique_clicks\",\n",
    "            # \"unique_ctr\",\n",
    "            # \"unique_inline_link_click_ctr\",\n",
    "            # \"unique_inline_link_clicks\",\n",
    "            # \"unique_link_clicks_ctr\",\n",
    "            \"updated_time\",  # Filter\n",
    "            # \"video_play_curve_actions\",\n",
    "            # \"video_play_retention_0_to_15s_actions\",\n",
    "            # \"video_play_retention_20_to_60s_actions\",\n",
    "            # \"video_play_retention_graph_actions\",\n",
    "            # \"wish_bid\",\n",
    "        ],\n",
    "        \"level\": \"ad\",\n",
    "        \"action_breakdowns\": [\n",
    "            \"action_type\",\n",
    "            \"action_target_id\",\n",
    "            \"action_destination\",\n",
    "        ],\n",
    "        \"breakdowns\": [\n",
    "            # \"ad_format_asset\",\n",
    "            \"age\",\n",
    "            # \"app_id\",\n",
    "            # \"body_asset\",\n",
    "            # \"call_to_action_asset\",\n",
    "            # \"coarse_conversion_value\",\n",
    "            # \"country\",\n",
    "            # \"description_asset\",\n",
    "            # \"device_platform\",\n",
    "            # \"dma\",\n",
    "            # \"fidelity_type\",\n",
    "            # \"frequency_value\",\n",
    "            \"gender\",\n",
    "            # \"hourly_stats_aggregated_by_advertiser_time_zone\",\n",
    "            # \"hourly_stats_aggregated_by_audience_time_zone\",\n",
    "            # \"hsid\",\n",
    "            # \"image_asset\",\n",
    "            # \"impression_device\",\n",
    "            # \"is_conversion_id_modeled\",\n",
    "            # \"link_url_asset\",\n",
    "            # \"mmm\",\n",
    "            # \"place_page_id\",\n",
    "            # \"platform_position\",\n",
    "            # \"postback_sequence_index\",\n",
    "            # \"product_id\",\n",
    "            # \"publisher_platform\",\n",
    "            # \"redownload\",\n",
    "            # \"region\",\n",
    "            # \"skan_campaign_id\",\n",
    "            # \"skan_conversion_id\",\n",
    "            # \"title_asset\",\n",
    "            # \"video_asset\"\n",
    "        ],\n",
    "        \"time_increment\": 1,\n",
    "        \"date_preset\": \"last_30d\",\n",
    "    }\n",
    ")"
   ]
  },
  {
   "cell_type": "markdown",
   "metadata": {},
   "source": [
    "# Monitor Report Run\n"
   ]
  },
  {
   "cell_type": "code",
   "execution_count": null,
   "metadata": {},
   "outputs": [],
   "source": [
    "monitor = Meta[\"AdReportRun.Get\"]\n",
    "monitor_data = None\n",
    "while not monitor_data or monitor_data.root.async_status != \"Job Completed\":\n",
    "    monitor_data = monitor(\n",
    "        parameters={\"AdReportRun-Id\": report_run_data.root.report_run_id},\n",
    "    )\n",
    "    display(monitor_data)\n",
    "    if monitor_data.root.async_status != \"Job Completed\":\n",
    "        sleep(5)\n",
    "    else:\n",
    "        break"
   ]
  },
  {
   "cell_type": "markdown",
   "metadata": {},
   "source": [
    "# Download Insight Report CSV\n"
   ]
  },
  {
   "cell_type": "code",
   "execution_count": null,
   "metadata": {},
   "outputs": [],
   "source": [
    "downloader = Facebook[\"Download\"]\n",
    "csv_data = downloader(\n",
    "    parameters={\n",
    "        \"name\": \"report\",\n",
    "        \"format\": \"csv\",\n",
    "        \"report_run_id\": monitor_data.root.id,\n",
    "    }\n",
    ")\n",
    "df = pd.DataFrame(csv_data)"
   ]
  },
  {
   "cell_type": "markdown",
   "metadata": {},
   "source": [
    "# Get Paginated Insight Report\n",
    "\n",
    "Useful if the CSV takes too long to download and causes the Facebook API to timeout and fail.\n"
   ]
  },
  {
   "cell_type": "code",
   "execution_count": null,
   "metadata": {},
   "outputs": [],
   "source": [
    "report = Meta[\"AdReportRun.Get.Insights\"]\n",
    "report_data = report(parameters={\"AdReportRun-Id\": monitor_data.root.id, \"limit\": 850})"
   ]
  },
  {
   "cell_type": "markdown",
   "metadata": {},
   "source": [
    "# Get Paginated Ads Related to an AdAccount\n"
   ]
  },
  {
   "cell_type": "code",
   "execution_count": null,
   "metadata": {},
   "outputs": [],
   "source": [
    "ads = Meta[\"AdAccount.Get.Ads\"]\n",
    "ads_data = ads(\n",
    "    parameters={\n",
    "        \"AdAccount-Id\": \"act_468410051784011\",\n",
    "        \"limit\": 200,\n",
    "        \"fields\": [\n",
    "            \"account_id\",\n",
    "            \"adset_id\",\n",
    "            \"audience_id\",\n",
    "            \"bid_amount\",\n",
    "            \"bid_info\",\n",
    "            \"bid_type\",\n",
    "            \"campaign_id\",\n",
    "            \"configured_status\",\n",
    "            \"conversion_domain\",\n",
    "            \"created_time\",\n",
    "            \"date_format\",\n",
    "            \"demolink_hash\",\n",
    "            \"display_sequence\",\n",
    "            \"draft_adgroup_id\",\n",
    "            \"effective_status\",\n",
    "            \"engagement_audience\",\n",
    "            \"execution_options\",\n",
    "            \"filename\",\n",
    "            \"id\",\n",
    "            \"include_demolink_hashes\",\n",
    "            \"last_updated_by_app_id\",\n",
    "            # \"meta_reward_adgroup_status\",\n",
    "            \"name\",\n",
    "            \"priority\",\n",
    "            # \"source_ad\",\n",
    "            \"source_ad_id\",\n",
    "            \"status\",\n",
    "            \"updated_time\",  # Filter\n",
    "        ],\n",
    "        # \"date_preset\": \"last_30d\",\n",
    "        \"time_range\": {\"since\": \"2023-09-01\", \"until\": \"2023-09-30\"},\n",
    "    }\n",
    ")"
   ]
  },
  {
   "cell_type": "markdown",
   "metadata": {},
   "source": [
    "# Get Paginated Custom Audiences Related to an AdAccount\n"
   ]
  },
  {
   "cell_type": "code",
   "execution_count": 2,
   "metadata": {},
   "outputs": [
    {
     "data": {
      "text/plain": [
       "[{'id': '23854129551430390', 'name': 'Jeami Test'},\n",
       " {'id': '23854077975480390', 'name': 'Jeami Test'},\n",
       " {'id': '23854057375770390', 'name': 'Jeami Test'},\n",
       " {'id': '23854054138960390', 'name': 'testingJeami'},\n",
       " {'id': '23854053948930390', 'name': 'testingJeami'},\n",
       " {'id': '23854053941760390', 'name': 'testingJeami'},\n",
       " {'id': '23854053932520390', 'name': 'testingJeami'},\n",
       " {'id': '23853977256450390', 'name': 'testingJeami'},\n",
       " {'id': '23853977252070390', 'name': 'testingJeami'},\n",
       " {'id': '23853976818540390', 'name': 'testingJeami'},\n",
       " {'id': '23853976533590390', 'name': 'testingJeami'},\n",
       " {'id': '23853976451650390', 'name': 'testingJeami'},\n",
       " {'id': '23853976446470390', 'name': 'testingJeami'},\n",
       " {'id': '23853976434850390', 'name': 'testingJeami'},\n",
       " {'id': '23853973656410390', 'name': 'testingJeami'},\n",
       " {'id': '23853973653320390', 'name': 'testingJeami'},\n",
       " {'id': '23853973652380390', 'name': 'testingJeami'},\n",
       " {'id': '23853945280880390', 'name': 'testingJeami'},\n",
       " {'id': '23853945280240390', 'name': 'testingJeami'},\n",
       " {'id': '23853942498960390', 'name': 'testingJeami'},\n",
       " {'id': '23853845384100390', 'name': 'RTBTNMemphisVR6Monthsext'},\n",
       " {'id': '23853845381350390', 'name': 'RTBTNMemphisVR6Months'},\n",
       " {'id': '23853835618620390', 'name': 'RTBTNMemphisNM'},\n",
       " {'id': '23850651046100082',\n",
       "  'name': 'RTB_Blacklist_0222to0422Sales_-20220602'},\n",
       " {'id': '23847655597710390', 'name': 'RTB-TN-Memphis_DC_0421_-20210517'},\n",
       " {'id': '23847533157740390', 'name': 'RTB_Blacklist_0321_-20210430'},\n",
       " {'id': '23847533032050390', 'name': 'RTB-TN-Memphis_DC_0321_-20210430'},\n",
       " {'id': '23847124140960390',\n",
       "  'name': 'RTB_FRS_Blacklist_4Months_0221_-20210308'},\n",
       " {'id': '23847105965980390', 'name': 'RTB-TN-Memphis_DC_0221_-20210305'},\n",
       " {'id': '23846964142600390', 'name': 'RTB_DC_TN_Memphis_0121_-20210209'},\n",
       " {'id': '23846676283090390', 'name': 'RTB_DC_TN_Memphis_1220_-20210113'},\n",
       " {'id': '23846402150290390', 'name': 'RTB_DC_TN_Memphis_1120_-20201214'},\n",
       " {'id': '23846142309200390', 'name': 'RTB_DC_TN_Memphis_1020_-20201110'},\n",
       " {'id': '23845932144980390', 'name': 'RTB_DC_TN_Memphis_0920_-20201014'},\n",
       " {'id': '23845599132140390', 'name': 'RTB_DC_TN_Memphis_0820_-20200914'},\n",
       " {'id': '23845274751100390', 'name': 'RTB_DC_TN_Memphis_0720_-20200813'},\n",
       " {'id': '23845166335510608', 'name': 'RTB_DC_TN_Memphis_0620_-20200717'},\n",
       " {'id': '23844965872190608', 'name': 'RTB_DC_May_TN_Memphis_2020_-20200615'},\n",
       " {'id': '23844488400130432', 'name': 'RTB_TN_Memphis_CISDC_0220'},\n",
       " {'id': '23844308222920432', 'name': 'RTB_TN_Memphis_CISDC_Store22_0120'},\n",
       " {'id': '23844200855660432', 'name': 'RTB_TN_Memphis_CISDC_1219'},\n",
       " {'id': '23844110339850432', 'name': 'RTB_TN_Memphis_NMDC_TopZips_SepNov'},\n",
       " {'id': '23844110193540432',\n",
       "  'name': 'RTB_TN_Memphis_SupplementalCISDC_TopSales_SepNov'},\n",
       " {'id': '23844049222880432', 'name': 'RTB_TN_Memphis_CISDC_1119'}]"
      ]
     },
     "execution_count": 2,
     "metadata": {},
     "output_type": "execute_result"
    }
   ],
   "source": [
    "custom_audiences = Meta[\"AdAccount.Get.Customaudiences\"]\n",
    "custom_audiences_data = custom_audiences(\n",
    "    parameters={\n",
    "        \"AdAccount-Id\": \"act_947970545616788\",\n",
    "        \"limit\": 100,\n",
    "        \"fields\": [\n",
    "            \"id\",\n",
    "            \"name\"\n",
    "        ]\n",
    "    }\n",
    ")\n",
    "\n",
    "custom_audiences_data.root.data"
   ]
  },
  {
   "cell_type": "markdown",
   "metadata": {},
   "source": [
    "# Add Users to a Custom Audience"
   ]
  },
  {
   "cell_type": "code",
   "execution_count": 10,
   "metadata": {},
   "outputs": [],
   "source": [
    "users = Meta[\"CustomAudience.Post.Users\"]\n",
    "_, users_data, users_raw = users.request(\n",
    "    parameters= {\n",
    "        \"CustomAudience-Id\": 23854129551430390,\n",
    "        \"payload\": {\n",
    "            \"schema\": \"MOBILE_ADVERTISER_ID\",\n",
    "            \"data_source\": {\n",
    "                \"type\": \"THIRD_PARTY_IMPORTED\",\n",
    "                \"sub_type\": \"MOBILE_ADVERTISER_IDS\"\n",
    "            },\n",
    "            \"is_raw\": True,\n",
    "            \"data\": [\n",
    "                '033c6a1b-6a1b-999c-f9c6-8adbb627cfec',\n",
    "                '564ba349-f948-4e5b-ae1c-d6cc9ed848d6',\n",
    "                '1bdcf01f8693c1a854f8247f93bf17c6bc31404e',\n",
    "                '70a7c4ee-a070-4611-8f39-a52369b1eb26',\n",
    "                '1b1dc11ec2354f3ff3cc4c5a54fc660bf6352350',\n",
    "            ]\n",
    "        }\n",
    "    }\n",
    ")"
   ]
  },
  {
   "cell_type": "code",
   "execution_count": 12,
   "metadata": {},
   "outputs": [
    {
     "data": {
      "text/plain": [
       "<Request('POST', 'https://graph.facebook.com/v18.0/23854129551430390/users?payload=schema%2CMOBILE_ADVERTISER_ID%2Cdata_source%2C%7B%27type%27%3A%20%27THIRD_PARTY_IMPORTED%27%2C%20%27sub_type%27%3A%20%27MOBILE_ADVERTISER_IDS%27%7D%2Cis_raw%2CTrue%2Cdata%2C%5B%27033c6a1b-6a1b-999c-f9c6-8adbb627cfec%27%2C%20%27564ba349-f948-4e5b-ae1c-d6cc9ed848d6%27%2C%20%271bdcf01f8693c1a854f8247f93bf17c6bc31404e%27%2C%20%2770a7c4ee-a070-4611-8f39-a52369b1eb26%27%2C%20%271b1dc11ec2354f3ff3cc4c5a54fc660bf6352350%27%5D&access_token=EAACoNFwM7XcBOxBiuTXLrNdOiKByKgaur0QWkGsdORfnUSD6EvZC6rIDQk5UQGnC9GWr3kmlGDCHA3Mk9ZCaZBPMDsTHCOXfCwiCxeqtMO7FPLTJSC4EIQReHSIYfpIhp9JIirxRlmA2WhjKunZB1KdZCugqCavjbYq5Wr9MoPu2yMLKP8Wt5QKeQMLKIJkd8')>"
      ]
     },
     "execution_count": 12,
     "metadata": {},
     "output_type": "execute_result"
    }
   ],
   "source": [
    "users_raw.request"
   ]
  }
 ],
 "metadata": {
  "kernelspec": {
   "display_name": ".venv",
   "language": "python",
   "name": "python3"
  },
  "language_info": {
   "codemirror_mode": {
    "name": "ipython",
    "version": 3
   },
   "file_extension": ".py",
   "mimetype": "text/x-python",
   "name": "python",
   "nbconvert_exporter": "python",
   "pygments_lexer": "ipython3",
   "version": "3.10.11"
  },
  "orig_nbformat": 4
 },
 "nbformat": 4,
 "nbformat_minor": 2
}
