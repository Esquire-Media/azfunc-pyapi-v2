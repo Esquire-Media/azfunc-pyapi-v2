{
 "cells": [
  {
   "cell_type": "code",
   "execution_count": 1,
   "metadata": {},
   "outputs": [],
   "source": [
    "import simplejson as json\n",
    "import os\n",
    "\n",
    "for key, value in json.load(open(\"local.settings.json\"))[\"Values\"].items():\n",
    "    os.environ[key] = str(value)"
   ]
  },
  {
   "cell_type": "code",
   "execution_count": 2,
   "metadata": {},
   "outputs": [
    {
     "data": {
      "text/plain": [
       "{'type': 'FeatureCollection',\n",
       " 'features': [{'geometry': {'type': 'Polygon',\n",
       "    'coordinates': [[(-123.46478462219238, 39.07166187346857),\n",
       "      (-123.4659218788147, 39.06921298141872),\n",
       "      (-123.46278905868529, 39.0687964947246),\n",
       "      (-123.4616732597351, 39.07079560844253),\n",
       "      (-123.46478462219238, 39.07166187346857)]]},\n",
       "   'type': 'Feature',\n",
       "   'properties': {'hash': False,\n",
       "    'callback': 'https://flbkr.localto.net/api/onspot/callbacks/geoframe/all/devices/1fc43cb4-fba2-4123-950b-abc7f69f9e6c',\n",
       "    'start': datetime.datetime(2023, 4, 11, 0, 0),\n",
       "    'name': '1fc43cb4-fba2-4123-950b-abc7f69f9e6c',\n",
       "    'end': datetime.datetime(2023, 5, 11, 0, 0)}},\n",
       "  {'geometry': {'type': 'Polygon',\n",
       "    'coordinates': [[(-123.46478462219238, 39.07166187346857),\n",
       "      (-123.4659218788147, 39.06921298141872),\n",
       "      (-123.46278905868529, 39.0687964947246),\n",
       "      (-123.4616732597351, 39.07079560844253),\n",
       "      (-123.46478462219238, 39.07166187346857)]]},\n",
       "   'type': 'Feature',\n",
       "   'properties': {'hash': False,\n",
       "    'callback': 'https://flbkr.localto.net/api/onspot/callbacks/geoframe/all/devices/09f4eace-6232-455c-b039-8b6f398b6ff2',\n",
       "    'start': datetime.datetime(2023, 4, 11, 0, 0),\n",
       "    'name': '09f4eace-6232-455c-b039-8b6f398b6ff2',\n",
       "    'end': datetime.datetime(2023, 5, 11, 0, 0)}}]}"
      ]
     },
     "execution_count": 2,
     "metadata": {},
     "output_type": "execute_result"
    }
   ],
   "source": [
    "from datetime import timedelta\n",
    "from libs.onspot import OnSpotAPI\n",
    "\n",
    "osa = OnSpotAPI(\n",
    "    access_key=os.environ[\"ONSPOT_ACCESS_KEY\"],\n",
    "    secret_key=os.environ[\"ONSPOT_SECRET_KEY\"],\n",
    "    api_key=os.environ[\"ONSPOT_API_KEY\"],\n",
    ")\n",
    "OnSpotAPI.build_request(\n",
    "    endpoint=\"geoframe/all/devices\",\n",
    "    context={\n",
    "        \"hash\": False,\n",
    "        \"callback\": \"https://flbkr.localto.net/api/onspot/callbacks\",\n",
    "        \"suffix_callback\": lambda self, data: \"/geoframe/all/devices/\"\n",
    "        + data.get(\"name\", \"\"),\n",
    "        \"outputAzConnStr\": os.environ[\"ONSPOT_CONN_STR\"],\n",
    "        \"outputLocation\": \"general/output\",\n",
    "        \"start\": timedelta(days=-37),\n",
    "        \"end\": timedelta(days=-7),\n",
    "    },\n",
    "    request={\n",
    "        \"features\": [\n",
    "            {\n",
    "                \"geometry\": {\n",
    "                    \"type\": \"Polygon\",\n",
    "                    \"coordinates\": [\n",
    "                        [\n",
    "                            [-123.46478462219238, 39.07166187346857],\n",
    "                            [-123.4659218788147, 39.06921298141872],\n",
    "                            [-123.46278905868529, 39.0687964947246],\n",
    "                            [-123.4616732597351, 39.07079560844253],\n",
    "                            [-123.46478462219238, 39.07166187346857],\n",
    "                        ]\n",
    "                    ],\n",
    "                },\n",
    "            },\n",
    "            {\n",
    "                \"geometry\": {\n",
    "                    \"type\": \"Polygon\",\n",
    "                    \"coordinates\": [\n",
    "                        [\n",
    "                            [-123.46478462219238, 39.07166187346857],\n",
    "                            [-123.4659218788147, 39.06921298141872],\n",
    "                            [-123.46278905868529, 39.0687964947246],\n",
    "                            [-123.4616732597351, 39.07079560844253],\n",
    "                            [-123.46478462219238, 39.07166187346857],\n",
    "                        ]\n",
    "                    ],\n",
    "                },\n",
    "            },\n",
    "        ],\n",
    "    },\n",
    ")"
   ]
  },
  {
   "cell_type": "code",
   "execution_count": 3,
   "metadata": {},
   "outputs": [
    {
     "data": {
      "text/plain": [
       "{'devices': ['cbb01f04-b445-29ce-5b8d-704bd57cd724',\n",
       "  'cb048ec5-4d00-4ffc-90db-f0479b8ba73d',\n",
       "  '09c3fbf6-67ba-c2f1-8cf3-7859851787cf'],\n",
       " 'cbInfo': {'message': 'SUCCESS',\n",
       "  'id': UUID('392d7a8e-01ca-4931-b7df-c47b38bc9d71'),\n",
       "  'success': True},\n",
       " 'name': '0db24c89-6a9c-4943-a18f-1e9deede1825'}"
      ]
     },
     "execution_count": 3,
     "metadata": {},
     "output_type": "execute_result"
    }
   ],
   "source": [
    "from libs.onspot.schemas.callbacks.devices import DevicesCallbackSchema\n",
    "\n",
    "\n",
    "schema = DevicesCallbackSchema()\n",
    "data = b'{\"devices\":[\"cbb01f04-b445-29ce-5b8d-704bd57cd724\",\"cb048ec5-4d00-4ffc-90db-f0479b8ba73d\",\"09c3fbf6-67ba-c2f1-8cf3-7859851787cf\"],\"name\":\"0db24c89-6a9c-4943-a18f-1e9deede1825\",\"cbInfo\":{\"success\":true,\"message\":\"SUCCESS\",\"id\":\"392d7a8e-01ca-4931-b7df-c47b38bc9d71\"}}'\n",
    "schema.loads(data)\n"
   ]
  }
 ],
 "metadata": {
  "kernelspec": {
   "display_name": ".venv",
   "language": "python",
   "name": "python3"
  },
  "language_info": {
   "codemirror_mode": {
    "name": "ipython",
    "version": 3
   },
   "file_extension": ".py",
   "mimetype": "text/x-python",
   "name": "python",
   "nbconvert_exporter": "python",
   "pygments_lexer": "ipython3",
   "version": "3.10.4"
  },
  "orig_nbformat": 4
 },
 "nbformat": 4,
 "nbformat_minor": 2
}
