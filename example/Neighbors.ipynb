{
 "cells": [
  {
   "cell_type": "code",
   "execution_count": null,
   "metadata": {},
   "outputs": [],
   "source": [
    "!pip install memory-profiler openpyxl"
   ]
  },
  {
   "cell_type": "code",
   "execution_count": null,
   "metadata": {},
   "outputs": [],
   "source": [
    "import json, os\n",
    "for k,v in json.load(open(\"local.settings.json\"))[\"Values\"].items():\n",
    "    os.environ[k] = v"
   ]
  },
  {
   "cell_type": "code",
   "execution_count": null,
   "metadata": {},
   "outputs": [],
   "source": [
    "import pandas as pd\n",
    "df = pd.read_excel(\"real_sample_formatted.xlsx\").drop_duplicates().head(1000)"
   ]
  },
  {
   "cell_type": "markdown",
   "metadata": {},
   "source": [
    "# Async"
   ]
  },
  {
   "cell_type": "code",
   "execution_count": null,
   "metadata": {},
   "outputs": [],
   "source": [
    "from memory_profiler import memory_usage\n",
    "from libs.utils.esquire.neighbors.logic_async import get_all_neighbors\n",
    "import asyncio, concurrent.futures, numpy as np"
   ]
  },
  {
   "cell_type": "code",
   "execution_count": null,
   "metadata": {},
   "outputs": [],
   "source": [
    "def worker(chunk):\n",
    "  loop = asyncio.new_event_loop()\n",
    "  asyncio.set_event_loop(loop)\n",
    "  result = loop.run_until_complete(\n",
    "    get_all_neighbors(chunk, 5, True, -1)\n",
    "  )\n",
    "  loop.close()\n",
    "  return result\n",
    "\n",
    "def run_async():\n",
    "  with concurrent.futures.ThreadPoolExecutor(max_workers=1) as executor:\n",
    "    results: pd.DataFrame = pd.concat(map(\n",
    "      lambda f: f.result(),\n",
    "      concurrent.futures.as_completed([\n",
    "        executor.submit(worker, chunk)\n",
    "        for chunk in np.array_split(df, len(df) // 1000)\n",
    "      ])\n",
    "    ))\n",
    "  return results.drop_duplicates().reindex()"
   ]
  },
  {
   "cell_type": "code",
   "execution_count": null,
   "metadata": {},
   "outputs": [],
   "source": [
    "# Profile the memory usage\n",
    "mem_usage_info_async, return_val_async = memory_usage(run_async, interval=0.1, timestamps=True, retval=True)\n",
    "\n",
    "# Extract memory usage and timestamps\n",
    "mem_usage_async = [item[0] for item in mem_usage_info_async]\n",
    "timestamps_async = [item[1] for item in mem_usage_info_async]\n",
    "\n",
    "# Convert timestamps to seconds relative to the first timestamp\n",
    "relative_times_async = [(t - timestamps_async[0]) for t in timestamps_async]\n",
    "len(return_val_async)"
   ]
  },
  {
   "cell_type": "code",
   "execution_count": null,
   "metadata": {},
   "outputs": [],
   "source": [
    "import matplotlib.pyplot as plt\n",
    "\n",
    "# Plot with accurate time on the x-axis\n",
    "plt.plot(relative_times_async, mem_usage_async)\n",
    "plt.xlabel('Time (seconds)')\n",
    "plt.ylabel('Memory Usage (MiB)')\n",
    "plt.title('Memory Usage Over Time (Asynchronous)')\n",
    "plt.show()\n",
    "\n",
    "# Or simply print the maximum memory usage\n",
    "print(f\"Maximum memory usage: {max(mem_usage_async)} MiB\")"
   ]
  },
  {
   "cell_type": "markdown",
   "metadata": {},
   "source": [
    "# Synchronous"
   ]
  },
  {
   "cell_type": "code",
   "execution_count": null,
   "metadata": {},
   "outputs": [],
   "source": [
    "from libs.utils.esquire.neighbors.logic_vectorized import get_all_neighbors\n",
    "from memory_profiler import memory_usage\n",
    "\n",
    "# Define a wrapper function to run the profiling\n",
    "def run_get_all_neighbors():\n",
    "    return get_all_neighbors(df, 3)\n",
    "\n",
    "# Profile the memory usage\n",
    "mem_usage_info, return_val = memory_usage(run_get_all_neighbors, interval=0.1, timestamps=True, retval=True)\n",
    "\n",
    "# Extract memory usage and timestamps\n",
    "mem_usage = [item[0] for item in mem_usage_info]\n",
    "timestamps = [item[1] for item in mem_usage_info]\n",
    "\n",
    "# Convert timestamps to seconds relative to the first timestamp\n",
    "relative_times = [(t - timestamps[0]) for t in timestamps]\n"
   ]
  },
  {
   "cell_type": "code",
   "execution_count": null,
   "metadata": {},
   "outputs": [],
   "source": [
    "import matplotlib.pyplot as plt\n",
    "\n",
    "# Plot with accurate time on the x-axis\n",
    "plt.plot(relative_times, mem_usage)\n",
    "plt.xlabel('Time (seconds)')\n",
    "plt.ylabel('Memory Usage (MiB)')\n",
    "plt.title('Memory Usage Over Time (Synchronous)')\n",
    "plt.show()\n",
    "\n",
    "# Or simply print the maximum memory usage\n",
    "print(f\"Maximum memory usage: {max(mem_usage)} MiB\")"
   ]
  },
  {
   "cell_type": "code",
   "execution_count": null,
   "metadata": {},
   "outputs": [],
   "source": [
    "print(f'   Synchronous |   Asynchronous |  % Change')\n",
    "print(' ' + '='*45)\n",
    "print(f'{max(mem_usage):>10.2f} MiB | {max(mem_usage_async):>10.2f} MiB | {((max(mem_usage_async) - max(mem_usage)) / max(mem_usage)) * 100:>+7.2f} %')\n",
    "print(f'{max(relative_times):>10.2f} s   | {max(relative_times_async):>10.2f} s   | {((max(relative_times_async) - max(relative_times)) / max(relative_times)) * 100:>+7.2f} %')\n"
   ]
  },
  {
   "cell_type": "code",
   "execution_count": null,
   "metadata": {},
   "outputs": [],
   "source": [
    "if return_val.compare(return_val_async).empty:\n",
    "    print('Same results!')"
   ]
  }
 ],
 "metadata": {
  "kernelspec": {
   "display_name": ".venv",
   "language": "python",
   "name": "python3"
  },
  "language_info": {
   "codemirror_mode": {
    "name": "ipython",
    "version": 3
   },
   "file_extension": ".py",
   "mimetype": "text/x-python",
   "name": "python",
   "nbconvert_exporter": "python",
   "pygments_lexer": "ipython3",
   "version": "3.12.2"
  }
 },
 "nbformat": 4,
 "nbformat_minor": 2
}
