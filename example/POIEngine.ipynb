{
 "cells": [
  {
   "cell_type": "code",
   "execution_count": null,
   "metadata": {},
   "outputs": [],
   "source": [
    "import json\n",
    "import os\n",
    "\n",
    "# Load environment variables\n",
    "with open(\"local.settings.json\") as f:\n",
    "    os.environ.update(json.load(f)[\"Values\"])"
   ]
  },
  {
   "cell_type": "code",
   "execution_count": null,
   "metadata": {},
   "outputs": [],
   "source": [
    "from libs.data import from_bind, register_binding\n",
    "if not from_bind(\"keystone\"):\n",
    "    register_binding(\n",
    "        \"keystone\",\n",
    "        \"Structured\",\n",
    "        \"sql\",\n",
    "        url=os.environ[\"DATABIND_SQL_KEYSTONE\"],\n",
    "        schemas=[\"poi\"],\n",
    "    )"
   ]
  },
  {
   "cell_type": "code",
   "execution_count": null,
   "metadata": {},
   "outputs": [],
   "source": [
    "from libs.utils.esquire.point_of_interest.poi_engine import POIEngine\n",
    "\n",
    "engine = POIEngine(from_bind(\"keystone\"))\n",
    "engine.load_from_points(\n",
    "    points=[(30.31167, -97.74481)],\n",
    "    radius=1609 * 20,  # convert meters to miles\n",
    "    categories=[15006],\n",
    ")"
   ]
  }
 ],
 "metadata": {
  "kernelspec": {
   "display_name": ".venv",
   "language": "python",
   "name": "python3"
  },
  "language_info": {
   "codemirror_mode": {
    "name": "ipython",
    "version": 3
   },
   "file_extension": ".py",
   "mimetype": "text/x-python",
   "name": "python",
   "nbconvert_exporter": "python",
   "pygments_lexer": "ipython3",
   "version": "3.12.3"
  }
 },
 "nbformat": 4,
 "nbformat_minor": 2
}
