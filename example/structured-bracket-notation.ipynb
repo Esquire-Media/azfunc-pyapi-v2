{
 "cells": [
  {
   "cell_type": "code",
   "execution_count": null,
   "metadata": {},
   "outputs": [],
   "source": [
    "import json, os\n",
    "for k,v in json.load(open(\"local.settings.json\"))[\"Values\"].items():\n",
    "    os.environ[k] = v"
   ]
  },
  {
   "cell_type": "code",
   "execution_count": null,
   "metadata": {},
   "outputs": [],
   "source": [
    "from libs.data import register_binding, from_bind\n",
    "if not from_bind(\"synapse\"):\n",
    "    register_binding(\n",
    "        \"synapse\",\n",
    "        \"Structured\",\n",
    "        \"sql\",\n",
    "        url=os.environ[\"DATABIND_SQL_GENERAL\"],\n",
    "        schemas=[\"dbo\"],\n",
    "    )"
   ]
  },
  {
   "cell_type": "code",
   "execution_count": null,
   "metadata": {},
   "outputs": [],
   "source": [
    "import pandas as pd\n",
    "df = pd.read_sql(\n",
    "    sql=\"estated\", \n",
    "    con=from_bind(\"synapse\").connect().connection(), \n",
    "    columns=[\"formatted_street_address\", \"city\", \"state\", \"zip_code\", \"zip_plus_four_code\"],\n",
    "    chunksize=10,\n",
    ")\n",
    "df = df[df[\"state\"] == \"GA\"]\n",
    "next(df)"
   ]
  },
  {
   "cell_type": "code",
   "execution_count": null,
   "metadata": {},
   "outputs": [],
   "source": [
    "next(df)"
   ]
  },
  {
   "cell_type": "code",
   "execution_count": null,
   "metadata": {},
   "outputs": [],
   "source": [
    "provider = from_bind(\"some_handle_name\")\n",
    "\n",
    "qf = provider[\"esquire.geoframes\"]\n",
    "qf = qf[[qf[\"esq_id\"], qf[\"id\"], qf[\"geography\"]]]\n",
    "\n",
    "display(qf[:10])\n",
    "display(qf[25:35]())"
   ]
  }
 ],
 "metadata": {
  "kernelspec": {
   "display_name": ".venv",
   "language": "python",
   "name": "python3"
  },
  "language_info": {
   "codemirror_mode": {
    "name": "ipython",
    "version": 3
   },
   "file_extension": ".py",
   "mimetype": "text/x-python",
   "name": "python",
   "nbconvert_exporter": "python",
   "pygments_lexer": "ipython3",
   "version": "3.10.11"
  },
  "orig_nbformat": 4
 },
 "nbformat": 4,
 "nbformat_minor": 2
}
