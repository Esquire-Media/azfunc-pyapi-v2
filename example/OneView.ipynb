{
 "cells": [
  {
   "cell_type": "markdown",
   "metadata": {},
   "source": [
    "# Set environmental variables for local development"
   ]
  },
  {
   "cell_type": "code",
   "execution_count": 1,
   "metadata": {},
   "outputs": [],
   "source": [
    "import json, os\n",
    "for k, v in json.load(open(\"local.settings.json\"))[\"Values\"].items():\n",
    "    os.environ[k] = v\n",
    "from libs.openapi.clients.oneview import OneView"
   ]
  },
  {
   "cell_type": "markdown",
   "metadata": {},
   "source": [
    "# Send request to start report generation"
   ]
  },
  {
   "cell_type": "code",
   "execution_count": null,
   "metadata": {},
   "outputs": [],
   "source": [
    "OneView[\"postReportTemplateRun\"](\n",
    "    parameters={\"report_template_uid\": os.environ[\"ONEVIEW_REPORT_TEMPLATE_UID\"]}\n",
    ")"
   ]
  },
  {
   "cell_type": "markdown",
   "metadata": {},
   "source": [
    "# Find the latest version of the report"
   ]
  },
  {
   "cell_type": "code",
   "execution_count": 2,
   "metadata": {},
   "outputs": [],
   "source": [
    "from datetime import date, datetime\n",
    "\n",
    "data = OneView[\"getReports\"](\n",
    "    parameters={\n",
    "        \"filter\": \"report_template_uid:\" + os.environ[\"ONEVIEW_REPORT_TEMPLATE_UID\"],\n",
    "        \"order\": \"-created_at\",\n",
    "        \"limit\": 1,\n",
    "    }\n",
    ")\n",
    "if len(data.reports):\n",
    "    report = data.reports[0]\n",
    "    t = date.today()\n",
    "    if report.end_at.replace(tzinfo=None) == datetime(\n",
    "        t.year, t.month, t.day, 3, 59, 59\n",
    "    ):\n",
    "        display(report.status)"
   ]
  },
  {
   "cell_type": "code",
   "execution_count": 8,
   "metadata": {},
   "outputs": [
    {
     "data": {
      "text/plain": [
       "datetime.datetime(2023, 11, 8, 4, 59, 59)"
      ]
     },
     "execution_count": 8,
     "metadata": {},
     "output_type": "execute_result"
    }
   ],
   "source": [
    "data.reports[0].end_at.replace(tzinfo=None) "
   ]
  }
 ],
 "metadata": {
  "kernelspec": {
   "display_name": ".venv",
   "language": "python",
   "name": "python3"
  },
  "language_info": {
   "codemirror_mode": {
    "name": "ipython",
    "version": 3
   },
   "file_extension": ".py",
   "mimetype": "text/x-python",
   "name": "python",
   "nbconvert_exporter": "python",
   "pygments_lexer": "ipython3",
   "version": "3.10.11"
  },
  "orig_nbformat": 4
 },
 "nbformat": 4,
 "nbformat_minor": 2
}
