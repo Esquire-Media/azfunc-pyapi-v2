{
 "cells": [
  {
   "cell_type": "markdown",
   "metadata": {},
   "source": [
    "# Set environmental variables for local development"
   ]
  },
  {
   "cell_type": "code",
   "execution_count": null,
   "metadata": {},
   "outputs": [],
   "source": [
    "import json, os\n",
    "for k,v in json.load(open(\"local.settings.json\"))[\"Values\"].items():\n",
    "    os.environ[k] = v\n",
    "from libs.openapi.clients import XandrAPI"
   ]
  },
  {
   "cell_type": "code",
   "execution_count": null,
   "metadata": {},
   "outputs": [],
   "source": [
    "XA = XandrAPI(asynchronus=False)\n",
    "start_element = 0\n",
    "num_elements = 100\n",
    "creatives = []\n",
    "while True:\n",
    "    print(f\"{start_element}\")\n",
    "    response = XA.createRequest(\"GetCreative\")(parameters={\"num_elements\": num_elements, \"start_element\": start_element})\n",
    "    if response.response.status == \"OK\":\n",
    "        start_element += response.response.num_elements\n",
    "        creatives += response.response.creatives\n",
    "        if start_element >= response.response.count:\n",
    "            break"
   ]
  }
 ],
 "metadata": {
  "kernelspec": {
   "display_name": ".venv",
   "language": "python",
   "name": "python3"
  },
  "language_info": {
   "codemirror_mode": {
    "name": "ipython",
    "version": 3
   },
   "file_extension": ".py",
   "mimetype": "text/x-python",
   "name": "python",
   "nbconvert_exporter": "python",
   "pygments_lexer": "ipython3",
   "version": "3.10.11"
  },
  "orig_nbformat": 4
 },
 "nbformat": 4,
 "nbformat_minor": 2
}
