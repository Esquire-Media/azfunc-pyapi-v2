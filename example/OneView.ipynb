{
 "cells": [
  {
   "cell_type": "markdown",
   "metadata": {},
   "source": [
    "# Set environmental variables for local development"
   ]
  },
  {
   "cell_type": "code",
   "execution_count": null,
   "metadata": {},
   "outputs": [],
   "source": [
    "import json, os\n",
    "for k, v in json.load(open(\"local.settings.json\"))[\"Values\"].items():\n",
    "    os.environ[k] = v\n",
    "from libs.openapi.clients.oneview import OneView"
   ]
  },
  {
   "cell_type": "markdown",
   "metadata": {},
   "source": [
    "# Authentication Flow"
   ]
  },
  {
   "cell_type": "code",
   "execution_count": null,
   "metadata": {},
   "outputs": [],
   "source": [
    "import httpx\n",
    "\n",
    "session = httpx.Client()\n",
    "login = session.get(\"https://oneview.roku.com/sso/login\", follow_redirects=True)\n",
    "identifier = session.post(\n",
    "    \"https://login.oneview.roku.com/u/login/identifier\",\n",
    "    params=login.url.params,\n",
    "    data={\n",
    "        \"state\": login.url.params.get(\"state\"),\n",
    "        \"username\": os.environ[\"ONEVIEW_USERNAME\"],\n",
    "        \"js-available\": \"true\",\n",
    "        \"webauthn-available\": \"true\",\n",
    "        \"is-brave\": \"false\",\n",
    "        \"webauthn-platform-available\": \"true\",\n",
    "        \"action\": \"default\",\n",
    "    },\n",
    "    follow_redirects=True,\n",
    ")\n",
    "session.post(\n",
    "    \"https://login.oneview.roku.com/u/login/password\",\n",
    "    params=login.url.params,\n",
    "    data={\n",
    "        \"state\": identifier.url.params.get(\"state\"),\n",
    "        \"username\": os.environ[\"ONEVIEW_USERNAME\"],\n",
    "        \"password\": os.environ[\"ONEVIEW_PASSWORD\"],\n",
    "        \"action\": \"default\",\n",
    "    },\n",
    "    follow_redirects=True,\n",
    ")\n",
    "{k: v for k, v in session.cookies.items()}"
   ]
  },
  {
   "cell_type": "markdown",
   "metadata": {},
   "source": [
    "# Send request to start report generation"
   ]
  },
  {
   "cell_type": "code",
   "execution_count": null,
   "metadata": {},
   "outputs": [],
   "source": [
    "OneView[\"postReportTemplateRun\"](\n",
    "    parameters={\"report_template_uid\": os.environ[\"ONEVIEW_REPORT_TEMPLATE_UID\"]}\n",
    ")"
   ]
  },
  {
   "cell_type": "markdown",
   "metadata": {},
   "source": [
    "# Find the latest version of the report"
   ]
  },
  {
   "cell_type": "code",
   "execution_count": null,
   "metadata": {},
   "outputs": [],
   "source": [
    "import pandas as pd\n",
    "\n",
    "data = OneView[\"getReports\"](\n",
    "    parameters={\n",
    "        \"filter\": \"report_template_uid:\" + os.environ[\"ONEVIEW_REPORT_TEMPLATE_UID\"],\n",
    "        \"order\": \"-created_at\",\n",
    "        \"limit\": 10,\n",
    "    }\n",
    ")\n",
    "pd.DataFrame(data.model_dump()[\"reports\"])"
   ]
  }
 ],
 "metadata": {
  "kernelspec": {
   "display_name": ".venv",
   "language": "python",
   "name": "python3"
  },
  "language_info": {
   "codemirror_mode": {
    "name": "ipython",
    "version": 3
   },
   "file_extension": ".py",
   "mimetype": "text/x-python",
   "name": "python",
   "nbconvert_exporter": "python",
   "pygments_lexer": "ipython3",
   "version": "3.10.11"
  },
  "orig_nbformat": 4
 },
 "nbformat": 4,
 "nbformat_minor": 2
}
