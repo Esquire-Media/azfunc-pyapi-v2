{
 "cells": [
  {
   "cell_type": "markdown",
   "metadata": {},
   "source": [
    "# Set environmental variables for local development"
   ]
  },
  {
   "cell_type": "code",
   "execution_count": null,
   "metadata": {},
   "outputs": [],
   "source": [
    "import orjson, os\n",
    "with open(\"local.settings.json\") as f:\n",
    "    os.environ.update(orjson.loads(f.read())[\"Values\"])"
   ]
  },
  {
   "cell_type": "markdown",
   "metadata": {},
   "source": [
    "# Get OnSpot Queue Stats\n",
    "Legacy mode"
   ]
  },
  {
   "cell_type": "code",
   "execution_count": null,
   "metadata": {},
   "outputs": [],
   "source": [
    "from libs.openapi.clients import OnSpotAPI\n",
    "OSA = OnSpotAPI(production=True)\n",
    "stat = OSA.createRequest((\"/status/queue\", \"get\"))\n",
    "_, data, _ = await stat.request()\n",
    "data"
   ]
  },
  {
   "cell_type": "markdown",
   "metadata": {},
   "source": [
    "# Register SQL data provider\n",
    "Note: this may take about 15-30 seconds to complete as it waits for the SQL database to be available and scans the provider metadata."
   ]
  },
  {
   "cell_type": "code",
   "execution_count": null,
   "metadata": {},
   "outputs": [],
   "source": [
    "from libs.data import from_bind, register_binding\n",
    "\n",
    "register_binding(\n",
    "    \"keystone\",\n",
    "    \"Structured\",\n",
    "    \"sql\",\n",
    "    url=os.environ[\"DATABIND_SQL_KEYSTONE\"],\n",
    "    schemas=[\"public\"],\n",
    ")"
   ]
  },
  {
   "cell_type": "markdown",
   "metadata": {},
   "source": [
    "# Instantiate data provider session"
   ]
  },
  {
   "cell_type": "code",
   "execution_count": null,
   "metadata": {},
   "outputs": [],
   "source": [
    "from libs.data.structured.sqlalchemy import SQLAlchemyStructuredProvider\n",
    "\n",
    "provider: SQLAlchemyStructuredProvider = from_bind(\"keystone\")\n",
    "tables = provider.models[\"public\"]\n",
    "session = provider.connect()"
   ]
  },
  {
   "cell_type": "markdown",
   "metadata": {},
   "source": [
    "# Query provider session for data (location geoframes)"
   ]
  },
  {
   "cell_type": "code",
   "execution_count": null,
   "metadata": {},
   "outputs": [],
   "source": [
    "from sqlalchemy.orm.query import Query\n",
    "\n",
    "query: Query = session.query(\n",
    "    tables[\"TargetingGeoFrame\"].id,\n",
    "    tables[\"TargetingGeoFrame\"].polygon,\n",
    ").filter(tables[\"TargetingGeoFrame\"].polygon != None)\n",
    "print(str(query.statement.compile(compile_kwargs={\"literal_binds\": True})))"
   ]
  },
  {
   "cell_type": "markdown",
   "metadata": {},
   "source": [
    "# Format the OnSpot requests"
   ]
  },
  {
   "cell_type": "code",
   "execution_count": null,
   "metadata": {},
   "outputs": [],
   "source": [
    "from datetime import datetime\n",
    "from dateutil.relativedelta import relativedelta\n",
    "import uuid, os\n",
    "\n",
    "# Relative date range\n",
    "# now = datetime.utcnow()\n",
    "# today = datetime(now.year, now.month, now.day)\n",
    "# end = today - relativedelta(days=2)\n",
    "# start = end - relativedelta(days=75)\n",
    "\n",
    "# Static data range\n",
    "start = datetime(2024,4,10)\n",
    "end = datetime(2024,4,19)\n",
    "\n",
    "requests = [\n",
    "    {\n",
    "        **row.polygon,\n",
    "        \"features\": [\n",
    "            {\n",
    "                **feature,\n",
    "                \"properties\": {\n",
    "                    \"name\": row.id,\n",
    "                    \"start\": start.isoformat(),\n",
    "                    \"end\": end.isoformat(),\n",
    "                    \"hash\": False,\n",
    "                },\n",
    "            }\n",
    "            for feature in row.polygon.get(\"features\", [])\n",
    "        ]\n",
    "    }\n",
    "    for row in query\n",
    "]"
   ]
  },
  {
   "cell_type": "markdown",
   "metadata": {},
   "source": [
    "# Inject callback and outputLocation data"
   ]
  },
  {
   "cell_type": "code",
   "execution_count": null,
   "metadata": {},
   "outputs": [],
   "source": [
    "from azure.storage.blob import (\n",
    "    ContainerClient,\n",
    "    ContainerSasPermissions,\n",
    "    generate_container_sas,\n",
    ")\n",
    "\n",
    "ingress = {\n",
    "    \"instance_id\": (instance_id := uuid.uuid4().hex),\n",
    "    \"conn_str\": \"ONSPOT_CONN_STR\"\n",
    "    if \"ONSPOT_CONN_STR\" in os.environ.keys()\n",
    "    else \"AzureWebJobsStorage\",\n",
    "    \"container\": os.environ.get(\"ONSPOT_CONTAINER\", \"dashboard\"),\n",
    "    \"outputPath\": f\"oneoff/{instance_id}/devices\",\n",
    "    # \"endpoint\": \"/save/geoframe/all/devices\",\n",
    "    \"endpoint\": \"/geoframe/all/devices\"\n",
    "}\n",
    "\n",
    "if ingress[\"endpoint\"].startswith(\"/save/\"):\n",
    "    container = ContainerClient.from_connection_string(\n",
    "        os.environ[ingress[\"conn_str\"]]\n",
    "        if ingress.get(\"conn_str\", None) in os.environ.keys()\n",
    "        else os.environ[\"AzureWebJobsStorage\"],\n",
    "        container_name=ingress.get(\"container\", \"general\"),\n",
    "    )\n",
    "    if not container.exists():\n",
    "        container.create_container()\n",
    "    sas_token = generate_container_sas(\n",
    "        account_name=container.credential.account_name,\n",
    "        account_key=container.credential.account_key,\n",
    "        container_name=container.container_name,\n",
    "        permission=ContainerSasPermissions(write=True, read=True),\n",
    "        expiry=datetime.utcnow() + relativedelta(days=2),\n",
    "    )\n",
    "event_url = \"https://webhook.site/7faabe52-9b54-4c33-82c8-ada4b90f8530\"\n",
    "\n",
    "for request in requests:\n",
    "    if request.get(\"type\", None) == \"FeatureCollection\":\n",
    "        for feature in request[\"features\"]:\n",
    "            feature[\"properties\"][\"callback\"] = event_url.replace(\n",
    "                \"{eventName}\", uuid.uuid4().hex\n",
    "            )\n",
    "            if ingress[\"endpoint\"].startswith(\"/save/\"):\n",
    "                feature[\"properties\"][\"outputLocation\"] = (\n",
    "                    container.url.replace(\"https://\", \"az://\")\n",
    "                    + \"/{}?\".format(ingress.get(\"outputPath\", ingress[\"instance_id\"]))\n",
    "                    + sas_token\n",
    "                )"
   ]
  },
  {
   "cell_type": "code",
   "execution_count": null,
   "metadata": {},
   "outputs": [],
   "source": [
    "from libs.openapi.clients.onspot import OnSpot\n",
    "req = OnSpot[(ingress[\"endpoint\"], \"post\")]\n",
    "for request in requests:\n",
    "    display(req(request))\n",
    "    break # Comment this line to process the entire list of requests"
   ]
  },
  {
   "cell_type": "markdown",
   "metadata": {},
   "source": [
    "# Address to Device ID"
   ]
  },
  {
   "cell_type": "code",
   "execution_count": null,
   "metadata": {},
   "outputs": [],
   "source": [
    "from datetime import datetime\n",
    "from dateutil.relativedelta import relativedelta\n",
    "import uuid, os\n",
    "\n",
    "# Relative date range\n",
    "now = datetime.utcnow()\n",
    "today = datetime(now.year, now.month, now.day)\n",
    "end = today - relativedelta(days=2)\n",
    "start = end - relativedelta(days=75)\n",
    "\n",
    "source_url = \"https://esquireautoaudience.blob.core.windows.net/...\"\n",
    "\n",
    "requests = [\n",
    "    {\n",
    "        \"hash\": False,\n",
    "        \"name\": uuid.uuid4().hex,\n",
    "        \"fileName\": uuid.uuid4().hex + \".csv\",\n",
    "        \"fileFormat\": {\n",
    "            \"delimiter\": \",\",\n",
    "            \"quoteEncapsulate\": True,\n",
    "        },\n",
    "        \"mappings\": {\n",
    "            \"street\": [\"address\"],\n",
    "            \"city\": [\"city\"],\n",
    "            \"state\": [\"state\"],\n",
    "            \"zip\": [\"zipCode\"],\n",
    "            \"zip4\": [\"plus4Code\"],\n",
    "        },\n",
    "        \"matchAcceptanceThreshold\": 29.9,\n",
    "        \"sources\": [source_url.replace(\"https://\", \"az://\")],\n",
    "    }\n",
    "]\n",
    "\n",
    "\n",
    "ingress = {\n",
    "    \"instance_id\": (instance_id := uuid.uuid4().hex),\n",
    "    \"conn_str\": \"ONSPOT_CONN_STR\"\n",
    "    if \"ONSPOT_CONN_STR\" in os.environ.keys()\n",
    "    else \"AzureWebJobsStorage\",\n",
    "    \"container\": os.environ.get(\"ONSPOT_CONTAINER\", \"dashboard\"),\n",
    "    \"outputPath\": f\"oneoff/{instance_id}/devices\",\n",
    "    \"endpoint\": \"/save/addresses/all/devices\",\n",
    "}\n",
    "\n",
    "from azure.storage.blob import (\n",
    "    ContainerClient,\n",
    "    ContainerSasPermissions,\n",
    "    generate_container_sas,\n",
    ")\n",
    "\n",
    "if ingress[\"endpoint\"].startswith(\"/save/\"):\n",
    "    container = ContainerClient.from_connection_string(\n",
    "        os.environ[ingress[\"conn_str\"]]\n",
    "        if ingress.get(\"conn_str\", None) in os.environ.keys()\n",
    "        else os.environ[\"AzureWebJobsStorage\"],\n",
    "        container_name=ingress.get(\"container\", \"general\"),\n",
    "    )\n",
    "    if not container.exists():\n",
    "        container.create_container()\n",
    "    sas_token = generate_container_sas(\n",
    "        account_name=container.credential.account_name,\n",
    "        account_key=container.credential.account_key,\n",
    "        container_name=container.container_name,\n",
    "        permission=ContainerSasPermissions(write=True, read=True),\n",
    "        expiry=datetime.utcnow() + relativedelta(days=2),\n",
    "    )\n",
    "event_url = \"https://webhook.site/60930832-3cb7-4a88-b845-3e76cc398fe8\"\n",
    "\n",
    "for request in requests:\n",
    "    if ingress[\"endpoint\"].startswith(\"/save/\"):\n",
    "        request[\"callback\"] = event_url\n",
    "        request[\"outputLocation\"] = (\n",
    "            container.url.replace(\"https://\", \"az://\")\n",
    "            + \"/{}?\".format(ingress.get(\"outputPath\", ingress[\"instance_id\"]))\n",
    "            + sas_token\n",
    "        )\n",
    "\n",
    "from libs.openapi.clients.onspot import OnSpot\n",
    "req = OnSpot[(ingress[\"endpoint\"], \"post\")]\n",
    "for request in requests:\n",
    "    display(req(request))"
   ]
  }
 ],
 "metadata": {
  "kernelspec": {
   "display_name": ".venv",
   "language": "python",
   "name": "python3"
  },
  "language_info": {
   "codemirror_mode": {
    "name": "ipython",
    "version": 3
   },
   "file_extension": ".py",
   "mimetype": "text/x-python",
   "name": "python",
   "nbconvert_exporter": "python",
   "pygments_lexer": "ipython3",
   "version": "3.11.7"
  },
  "orig_nbformat": 4
 },
 "nbformat": 4,
 "nbformat_minor": 2
}
