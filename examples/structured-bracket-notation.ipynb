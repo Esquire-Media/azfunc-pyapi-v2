{
 "cells": [
  {
   "cell_type": "code",
   "execution_count": 1,
   "metadata": {},
   "outputs": [],
   "source": [
    "import simplejson as json\n",
    "import os\n",
    "\n",
    "for key, value in json.load(open(\"local.settings.json\"))[\"Values\"].items():\n",
    "    os.environ[key] = str(value)"
   ]
  },
  {
   "cell_type": "code",
   "execution_count": 2,
   "metadata": {},
   "outputs": [],
   "source": [
    "from libs.data import register_binding\n",
    "register_binding(\n",
    "    \"some_handle_name\",\n",
    "    \"Structured\",\n",
    "    \"sql\",\n",
    "    url=os.environ[\"DATABIND_SQL_GENERAL\"],\n",
    "    schemas=[\"esquire\", \"dbo\"],\n",
    ")"
   ]
  },
  {
   "cell_type": "code",
   "execution_count": 4,
   "metadata": {},
   "outputs": [
    {
     "data": {
      "text/plain": [
       "SELECT top 10 esquire.geoframes.esq_id,\n",
       "       esquire.geoframes.id,\n",
       "       esquire.geoframes.notes\n",
       "FROM   esquire.geoframes\n",
       "ORDER BY esquire.geoframes.esq_id"
      ]
     },
     "metadata": {},
     "output_type": "display_data"
    },
    {
     "data": {
      "text/plain": [
       "[('01~00015', UUID('9fe48c14-404b-4a6e-afdb-f79d0b9298a5'), 'Best Buy'),\n",
       " ('01~00016', UUID('940ae7e4-74cd-48d1-9411-99bac319e7ea'), 'Best Buy'),\n",
       " ('01~00017', UUID('38af3cca-118b-4c72-ba38-15ce5eb89947'), 'Best Buy'),\n",
       " ('01~00018', UUID('0ca89be9-8081-4322-8cef-5b173efcf7ba'), 'Best Buy'),\n",
       " ('01~00020', UUID('8e951e97-51c2-4130-879e-fca364f4207b'), 'Best Buy'),\n",
       " ('01~00021', UUID('144ad133-88d7-4d43-8411-26fc2367890e'), 'Best Buy'),\n",
       " ('01~00022', UUID('361facc2-b229-4884-a757-487a1a0416ae'), 'Best Buy'),\n",
       " ('01~00023', UUID('9888e1ae-9f72-408e-bffe-6758429c4709'), 'Best Buy'),\n",
       " ('01~00024', UUID('89179aa6-82bc-4e41-b859-57011d0d97c4'), 'Best Buy'),\n",
       " ('01~00025', UUID('83e30d84-fc35-4222-a482-66599328d902'), 'Best Buy')]"
      ]
     },
     "metadata": {},
     "output_type": "display_data"
    },
    {
     "data": {
      "text/html": [
       "<div>\n",
       "<style scoped>\n",
       "    .dataframe tbody tr th:only-of-type {\n",
       "        vertical-align: middle;\n",
       "    }\n",
       "\n",
       "    .dataframe tbody tr th {\n",
       "        vertical-align: top;\n",
       "    }\n",
       "\n",
       "    .dataframe thead th {\n",
       "        text-align: right;\n",
       "    }\n",
       "</style>\n",
       "<table border=\"1\" class=\"dataframe\">\n",
       "  <thead>\n",
       "    <tr style=\"text-align: right;\">\n",
       "      <th></th>\n",
       "      <th>esq_id</th>\n",
       "      <th>id</th>\n",
       "      <th>notes</th>\n",
       "    </tr>\n",
       "  </thead>\n",
       "  <tbody>\n",
       "    <tr>\n",
       "      <th>0</th>\n",
       "      <td>SR~00008</td>\n",
       "      <td>958270a2-10c5-4496-9031-1d425851e7d3</td>\n",
       "      <td>Ashley HomeStore</td>\n",
       "    </tr>\n",
       "    <tr>\n",
       "      <th>1</th>\n",
       "      <td>SR~00009</td>\n",
       "      <td>5a09f074-97df-4374-a866-577115ea3398</td>\n",
       "      <td>Ashley HomeStore</td>\n",
       "    </tr>\n",
       "    <tr>\n",
       "      <th>2</th>\n",
       "      <td>SR~00010</td>\n",
       "      <td>ccf83742-f5ed-42cf-979d-fc18acc86380</td>\n",
       "      <td>Ashley HomeStore</td>\n",
       "    </tr>\n",
       "    <tr>\n",
       "      <th>3</th>\n",
       "      <td>SR~00011</td>\n",
       "      <td>d0f9213f-259f-4774-9b03-d9e6f89d1680</td>\n",
       "      <td>Ashley HomeStore</td>\n",
       "    </tr>\n",
       "    <tr>\n",
       "      <th>4</th>\n",
       "      <td>SR~00012</td>\n",
       "      <td>624124ea-482b-4be7-88de-d8cf4144fddb</td>\n",
       "      <td>Ashley HomeStore</td>\n",
       "    </tr>\n",
       "    <tr>\n",
       "      <th>5</th>\n",
       "      <td>SR~00013</td>\n",
       "      <td>82491850-5441-4b39-b8f4-13cff5859690</td>\n",
       "      <td>Ashley HomeStore</td>\n",
       "    </tr>\n",
       "    <tr>\n",
       "      <th>6</th>\n",
       "      <td>SR~00014</td>\n",
       "      <td>119e882f-e6ad-4857-8874-9d7c3566f5e2</td>\n",
       "      <td>Ashley HomeStore</td>\n",
       "    </tr>\n",
       "    <tr>\n",
       "      <th>7</th>\n",
       "      <td>SR~00015</td>\n",
       "      <td>ffc18509-1627-4d95-9e1a-c8c150eade20</td>\n",
       "      <td>Ashley HomeStore</td>\n",
       "    </tr>\n",
       "    <tr>\n",
       "      <th>8</th>\n",
       "      <td>SR~00016</td>\n",
       "      <td>230e828d-cbeb-4153-8efb-c2c6425da064</td>\n",
       "      <td>Ashley HomeStore</td>\n",
       "    </tr>\n",
       "    <tr>\n",
       "      <th>9</th>\n",
       "      <td>SR~00017</td>\n",
       "      <td>8a168b5a-40a4-410b-8dc0-92af5e5791f8</td>\n",
       "      <td>Ashley HomeStore</td>\n",
       "    </tr>\n",
       "  </tbody>\n",
       "</table>\n",
       "</div>"
      ],
      "text/plain": [
       "     esq_id                                    id             notes\n",
       "0  SR~00008  958270a2-10c5-4496-9031-1d425851e7d3  Ashley HomeStore\n",
       "1  SR~00009  5a09f074-97df-4374-a866-577115ea3398  Ashley HomeStore\n",
       "2  SR~00010  ccf83742-f5ed-42cf-979d-fc18acc86380  Ashley HomeStore\n",
       "3  SR~00011  d0f9213f-259f-4774-9b03-d9e6f89d1680  Ashley HomeStore\n",
       "4  SR~00012  624124ea-482b-4be7-88de-d8cf4144fddb  Ashley HomeStore\n",
       "5  SR~00013  82491850-5441-4b39-b8f4-13cff5859690  Ashley HomeStore\n",
       "6  SR~00014  119e882f-e6ad-4857-8874-9d7c3566f5e2  Ashley HomeStore\n",
       "7  SR~00015  ffc18509-1627-4d95-9e1a-c8c150eade20  Ashley HomeStore\n",
       "8  SR~00016  230e828d-cbeb-4153-8efb-c2c6425da064  Ashley HomeStore\n",
       "9  SR~00017  8a168b5a-40a4-410b-8dc0-92af5e5791f8  Ashley HomeStore"
      ]
     },
     "metadata": {},
     "output_type": "display_data"
    }
   ],
   "source": [
    "from libs.data import from_bind\n",
    "\n",
    "provider = from_bind(\"some_handle_name\")\n",
    "\n",
    "qf = provider[\"esquire.geoframes\"]\n",
    "qf = qf[[qf[\"esq_id\"], qf[\"id\"], qf[\"notes\"]]]\n",
    "\n",
    "display(qf[:10])\n",
    "display(qf[25:35]())\n",
    "display(qf[-15:-5].to_pandas())"
   ]
  }
 ],
 "metadata": {
  "kernelspec": {
   "display_name": ".venv",
   "language": "python",
   "name": "python3"
  },
  "language_info": {
   "codemirror_mode": {
    "name": "ipython",
    "version": 3
   },
   "file_extension": ".py",
   "mimetype": "text/x-python",
   "name": "python",
   "nbconvert_exporter": "python",
   "pygments_lexer": "ipython3",
   "version": "3.10.2"
  },
  "orig_nbformat": 4
 },
 "nbformat": 4,
 "nbformat_minor": 2
}
